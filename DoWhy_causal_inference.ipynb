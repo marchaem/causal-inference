{
  "nbformat": 4,
  "nbformat_minor": 0,
  "metadata": {
    "colab": {
      "name": "Copie de Make_a_copy_DoWhy_causal_inference",
      "provenance": [],
      "collapsed_sections": [],
      "toc_visible": true,
      "include_colab_link": true
    },
    "kernelspec": {
      "name": "python3",
      "display_name": "Python 3"
    }
  },
  "cells": [
    {
      "cell_type": "markdown",
      "metadata": {
        "id": "view-in-github",
        "colab_type": "text"
      },
      "source": [
        "<a href=\"https://colab.research.google.com/github/marchaem/causal-inference/blob/master/DoWhy_causal_inference.ipynb\" target=\"_parent\"><img src=\"https://colab.research.google.com/assets/colab-badge.svg\" alt=\"Open In Colab\"/></a>"
      ]
    },
    {
      "cell_type": "markdown",
      "metadata": {
        "id": "BSQ92RbbgfsZ",
        "colab_type": "text"
      },
      "source": [
        "# <font color=Darkred>Causal inference in observational data</font>\n",
        "---\n",
        "\n",
        "\n",
        "## <font color=Darkblue>Identifying the impact of a training program on earnings.  </font>\n",
        "\n",
        "> Dehejia and Wahba (1999). __Causal Effects in Non-Experimental Studies: Reevaluating the Evaluation of Training Programs__, _Journal of the American Statistical Association_, Vol. 94, No. 448 (December 1999), pp. 1053-1062. [Data info](https://users.nber.org/~rdehejia/data/.nswdata2.html)"
      ]
    },
    {
      "cell_type": "markdown",
      "metadata": {
        "id": "Ku7wvCn9YI79",
        "colab_type": "text"
      },
      "source": [
        "<br>\n",
        "\n",
        "Install `graphviz` (AT&T Labs Research) and its Python interface `pygraphviz` for graph layout and visualization.\n",
        "\n",
        "We're going to use [DoWhy](https://www.microsoft.com/en-us/research/blog/dowhy-a-library-for-causal-inference/) (Microsoft) as the causal inference package.\n"
      ]
    },
    {
      "cell_type": "code",
      "metadata": {
        "id": "M1aNqRG5Wi7q",
        "colab_type": "code",
        "outputId": "20b4f4d4-ba54-4499-bc84-188645def80d",
        "colab": {
          "base_uri": "https://localhost:8080/",
          "height": 1000
        }
      },
      "source": [
        "!sudo apt install graphviz libgraphviz-dev graphviz-dev pkg-config\n",
        "!pip install pygraphviz --install-option=\"--include-path=/usr/include/graphviz\" --install-option=\"--library-path=/usr/lib/graphviz/\"\n",
        "!pip install dowhy "
      ],
      "execution_count": 0,
      "outputs": [
        {
          "output_type": "stream",
          "text": [
            "Reading package lists... Done\n",
            "Building dependency tree       \n",
            "Reading state information... Done\n",
            "Note, selecting 'libgraphviz-dev' instead of 'graphviz-dev'\n",
            "pkg-config is already the newest version (0.29.1-0ubuntu2).\n",
            "graphviz is already the newest version (2.40.1-2).\n",
            "The following additional packages will be installed:\n",
            "  libgail-common libgail18 libgtk2.0-0 libgtk2.0-bin libgtk2.0-common\n",
            "  libgvc6-plugins-gtk libxdot4\n",
            "Suggested packages:\n",
            "  gvfs\n",
            "The following NEW packages will be installed:\n",
            "  libgail-common libgail18 libgraphviz-dev libgtk2.0-0 libgtk2.0-bin\n",
            "  libgtk2.0-common libgvc6-plugins-gtk libxdot4\n",
            "0 upgraded, 8 newly installed, 0 to remove and 28 not upgraded.\n",
            "Need to get 2,120 kB of archives.\n",
            "After this operation, 7,128 kB of additional disk space will be used.\n",
            "Get:1 http://archive.ubuntu.com/ubuntu bionic/main amd64 libgtk2.0-common all 2.24.32-1ubuntu1 [125 kB]\n",
            "Get:2 http://archive.ubuntu.com/ubuntu bionic/main amd64 libgtk2.0-0 amd64 2.24.32-1ubuntu1 [1,769 kB]\n",
            "Get:3 http://archive.ubuntu.com/ubuntu bionic/main amd64 libgail18 amd64 2.24.32-1ubuntu1 [14.2 kB]\n",
            "Get:4 http://archive.ubuntu.com/ubuntu bionic/main amd64 libgail-common amd64 2.24.32-1ubuntu1 [112 kB]\n",
            "Get:5 http://archive.ubuntu.com/ubuntu bionic/universe amd64 libxdot4 amd64 2.40.1-2 [15.7 kB]\n",
            "Get:6 http://archive.ubuntu.com/ubuntu bionic/universe amd64 libgvc6-plugins-gtk amd64 2.40.1-2 [18.2 kB]\n",
            "Get:7 http://archive.ubuntu.com/ubuntu bionic/universe amd64 libgraphviz-dev amd64 2.40.1-2 [57.3 kB]\n",
            "Get:8 http://archive.ubuntu.com/ubuntu bionic/main amd64 libgtk2.0-bin amd64 2.24.32-1ubuntu1 [7,536 B]\n",
            "Fetched 2,120 kB in 0s (5,216 kB/s)\n",
            "debconf: unable to initialize frontend: Dialog\n",
            "debconf: (No usable dialog-like program is installed, so the dialog based frontend cannot be used. at /usr/share/perl5/Debconf/FrontEnd/Dialog.pm line 76, <> line 8.)\n",
            "debconf: falling back to frontend: Readline\n",
            "debconf: unable to initialize frontend: Readline\n",
            "debconf: (This frontend requires a controlling tty.)\n",
            "debconf: falling back to frontend: Teletype\n",
            "dpkg-preconfigure: unable to re-open stdin: \n",
            "Selecting previously unselected package libgtk2.0-common.\n",
            "(Reading database ... 132681 files and directories currently installed.)\n",
            "Preparing to unpack .../0-libgtk2.0-common_2.24.32-1ubuntu1_all.deb ...\n",
            "Unpacking libgtk2.0-common (2.24.32-1ubuntu1) ...\n",
            "Selecting previously unselected package libgtk2.0-0:amd64.\n",
            "Preparing to unpack .../1-libgtk2.0-0_2.24.32-1ubuntu1_amd64.deb ...\n",
            "Unpacking libgtk2.0-0:amd64 (2.24.32-1ubuntu1) ...\n",
            "Selecting previously unselected package libgail18:amd64.\n",
            "Preparing to unpack .../2-libgail18_2.24.32-1ubuntu1_amd64.deb ...\n",
            "Unpacking libgail18:amd64 (2.24.32-1ubuntu1) ...\n",
            "Selecting previously unselected package libgail-common:amd64.\n",
            "Preparing to unpack .../3-libgail-common_2.24.32-1ubuntu1_amd64.deb ...\n",
            "Unpacking libgail-common:amd64 (2.24.32-1ubuntu1) ...\n",
            "Selecting previously unselected package libxdot4.\n",
            "Preparing to unpack .../4-libxdot4_2.40.1-2_amd64.deb ...\n",
            "Unpacking libxdot4 (2.40.1-2) ...\n",
            "Selecting previously unselected package libgvc6-plugins-gtk.\n",
            "Preparing to unpack .../5-libgvc6-plugins-gtk_2.40.1-2_amd64.deb ...\n",
            "Unpacking libgvc6-plugins-gtk (2.40.1-2) ...\n",
            "Selecting previously unselected package libgraphviz-dev.\n",
            "Preparing to unpack .../6-libgraphviz-dev_2.40.1-2_amd64.deb ...\n",
            "Unpacking libgraphviz-dev (2.40.1-2) ...\n",
            "Selecting previously unselected package libgtk2.0-bin.\n",
            "Preparing to unpack .../7-libgtk2.0-bin_2.24.32-1ubuntu1_amd64.deb ...\n",
            "Unpacking libgtk2.0-bin (2.24.32-1ubuntu1) ...\n",
            "Setting up libgtk2.0-common (2.24.32-1ubuntu1) ...\n",
            "Setting up libxdot4 (2.40.1-2) ...\n",
            "Processing triggers for libc-bin (2.27-3ubuntu1) ...\n",
            "Processing triggers for man-db (2.8.3-2ubuntu0.1) ...\n",
            "Setting up libgtk2.0-0:amd64 (2.24.32-1ubuntu1) ...\n",
            "Setting up libgail18:amd64 (2.24.32-1ubuntu1) ...\n",
            "Setting up libgail-common:amd64 (2.24.32-1ubuntu1) ...\n",
            "Setting up libgvc6-plugins-gtk (2.40.1-2) ...\n",
            "Setting up libgraphviz-dev (2.40.1-2) ...\n",
            "Setting up libgtk2.0-bin (2.24.32-1ubuntu1) ...\n",
            "Processing triggers for libc-bin (2.27-3ubuntu1) ...\n",
            "/usr/local/lib/python3.6/dist-packages/pip/_internal/commands/install.py:243: UserWarning: Disabling all use of wheels due to the use of --build-options / --global-options / --install-options.\n",
            "  cmdoptions.check_install_build_global(options)\n",
            "Collecting pygraphviz\n",
            "\u001b[?25l  Downloading https://files.pythonhosted.org/packages/7e/b1/d6d849ddaf6f11036f9980d433f383d4c13d1ebcfc3cd09bc845bda7e433/pygraphviz-1.5.zip (117kB)\n",
            "\u001b[K     |████████████████████████████████| 122kB 9.5MB/s \n",
            "\u001b[?25hSkipping bdist_wheel for pygraphviz, due to binaries being disabled for it.\n",
            "Installing collected packages: pygraphviz\n",
            "  Running setup.py install for pygraphviz ... \u001b[?25l\u001b[?25hdone\n",
            "Successfully installed pygraphviz-1.5\n",
            "Collecting dowhy\n",
            "\u001b[?25l  Downloading https://files.pythonhosted.org/packages/ec/24/1909fc4098920682e91d10a317186d11190c87be67319328fee0953d480d/dowhy-0.1.1.tar.gz (459kB)\n",
            "\u001b[K     |████████████████████████████████| 460kB 9.3MB/s \n",
            "\u001b[?25hRequirement already satisfied: numpy>=1.15 in /usr/local/lib/python3.6/dist-packages (from dowhy) (1.16.5)\n",
            "Requirement already satisfied: scipy in /usr/local/lib/python3.6/dist-packages (from dowhy) (1.3.1)\n",
            "Requirement already satisfied: pandas in /usr/local/lib/python3.6/dist-packages (from dowhy) (0.24.2)\n",
            "Requirement already satisfied: networkx>=2.0 in /usr/local/lib/python3.6/dist-packages (from dowhy) (2.4)\n",
            "Requirement already satisfied: matplotlib>=3.0 in /usr/local/lib/python3.6/dist-packages (from dowhy) (3.0.3)\n",
            "Collecting sympy>=1.4 (from dowhy)\n",
            "\u001b[?25l  Downloading https://files.pythonhosted.org/packages/21/21/f4105795ca7f35c541d82c5b06be684dd2f5cb4f508fb487cd7aea4de776/sympy-1.4-py2.py3-none-any.whl (5.3MB)\n",
            "\u001b[K     |████████████████████████████████| 5.3MB 40.7MB/s \n",
            "\u001b[?25hRequirement already satisfied: scikit-learn in /usr/local/lib/python3.6/dist-packages (from dowhy) (0.21.3)\n",
            "Collecting pydot>=1.4 (from dowhy)\n",
            "  Downloading https://files.pythonhosted.org/packages/33/d1/b1479a770f66d962f545c2101630ce1d5592d90cb4f083d38862e93d16d2/pydot-1.4.1-py2.py3-none-any.whl\n",
            "Requirement already satisfied: python-dateutil>=2.5.0 in /usr/local/lib/python3.6/dist-packages (from pandas->dowhy) (2.5.3)\n",
            "Requirement already satisfied: pytz>=2011k in /usr/local/lib/python3.6/dist-packages (from pandas->dowhy) (2018.9)\n",
            "Requirement already satisfied: decorator>=4.3.0 in /usr/local/lib/python3.6/dist-packages (from networkx>=2.0->dowhy) (4.4.0)\n",
            "Requirement already satisfied: pyparsing!=2.0.4,!=2.1.2,!=2.1.6,>=2.0.1 in /usr/local/lib/python3.6/dist-packages (from matplotlib>=3.0->dowhy) (2.4.2)\n",
            "Requirement already satisfied: kiwisolver>=1.0.1 in /usr/local/lib/python3.6/dist-packages (from matplotlib>=3.0->dowhy) (1.1.0)\n",
            "Requirement already satisfied: cycler>=0.10 in /usr/local/lib/python3.6/dist-packages (from matplotlib>=3.0->dowhy) (0.10.0)\n",
            "Requirement already satisfied: mpmath>=0.19 in /usr/local/lib/python3.6/dist-packages (from sympy>=1.4->dowhy) (1.1.0)\n",
            "Requirement already satisfied: joblib>=0.11 in /usr/local/lib/python3.6/dist-packages (from scikit-learn->dowhy) (0.14.0)\n",
            "Requirement already satisfied: six>=1.5 in /usr/local/lib/python3.6/dist-packages (from python-dateutil>=2.5.0->pandas->dowhy) (1.12.0)\n",
            "Requirement already satisfied: setuptools in /usr/local/lib/python3.6/dist-packages (from kiwisolver>=1.0.1->matplotlib>=3.0->dowhy) (41.4.0)\n",
            "Building wheels for collected packages: dowhy\n",
            "  Building wheel for dowhy (setup.py) ... \u001b[?25l\u001b[?25hdone\n",
            "  Created wheel for dowhy: filename=dowhy-0.1.1-cp36-none-any.whl size=44685 sha256=0ded21dfea047a3b87f7991eaefb72ec6d3125c37ce74b22885ef63e10a3c0f3\n",
            "  Stored in directory: /root/.cache/pip/wheels/a8/45/45/d5ee037dc54b12c6b597ba4b6e31ee1d0f0c3fd987e933c944\n",
            "Successfully built dowhy\n",
            "Installing collected packages: sympy, pydot, dowhy\n",
            "  Found existing installation: sympy 1.1.1\n",
            "    Uninstalling sympy-1.1.1:\n",
            "      Successfully uninstalled sympy-1.1.1\n",
            "  Found existing installation: pydot 1.3.0\n",
            "    Uninstalling pydot-1.3.0:\n",
            "      Successfully uninstalled pydot-1.3.0\n",
            "Successfully installed dowhy-0.1.1 pydot-1.4.1 sympy-1.4\n"
          ],
          "name": "stdout"
        }
      ]
    },
    {
      "cell_type": "markdown",
      "metadata": {
        "id": "-8W4T9_yKfNO",
        "colab_type": "text"
      },
      "source": [
        "After this step, restart the runtime: __Runtime -> Restart runtime...__\n",
        "\n",
        "<br>\n",
        "\n",
        "Also, install the other required packages."
      ]
    },
    {
      "cell_type": "code",
      "metadata": {
        "id": "liCCUjfQsDIg",
        "colab_type": "code",
        "colab": {}
      },
      "source": [
        "import pandas as pd\n",
        "import numpy as np\n",
        "import matplotlib.pyplot as plt\n",
        "import seaborn as sns\n",
        "import scipy as sp\n",
        "import statsmodels.api as sm"
      ],
      "execution_count": 0,
      "outputs": []
    },
    {
      "cell_type": "markdown",
      "metadata": {
        "id": "iU7q4qqqmP6T",
        "colab_type": "text"
      },
      "source": [
        "<br>\n",
        "\n",
        "### <font color=Darkred>1. The dataset</font>"
      ]
    },
    {
      "cell_type": "markdown",
      "metadata": {
        "id": "5TfTCyInJ6mE",
        "colab_type": "text"
      },
      "source": [
        "* The treated sample is one of 185 males who received training during 1976–1977. \n",
        "<br>\n",
        "* The control group consists of 2,490 male household heads under the age of 55 who are\n",
        "not retired."
      ]
    },
    {
      "cell_type": "code",
      "metadata": {
        "id": "6TzFszOBmJOw",
        "colab_type": "code",
        "colab": {
          "resources": {
            "http://localhost:8080/nbextensions/google.colab/files.js": {
              "data": "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",
              "ok": true,
              "headers": [
                [
                  "content-type",
                  "application/javascript"
                ]
              ],
              "status": 200,
              "status_text": ""
            }
          },
          "base_uri": "https://localhost:8080/",
          "height": 91
        },
        "outputId": "112528f8-4b25-4d66-db92-6f6fd2a6820e"
      },
      "source": [
        "from google.colab import files\n",
        "\n",
        "uploaded = files.upload()\n",
        "\n",
        "for fn in uploaded.keys():\n",
        "  print('User uploaded file \"{name}\" with length {length} bytes'.format(\n",
        "      name=fn, length=len(uploaded[fn])))"
      ],
      "execution_count": 2,
      "outputs": [
        {
          "output_type": "display_data",
          "data": {
            "text/html": [
              "\n",
              "     <input type=\"file\" id=\"files-ded1b046-f9bb-4a8f-810e-43c0a3177099\" name=\"files[]\" multiple disabled />\n",
              "     <output id=\"result-ded1b046-f9bb-4a8f-810e-43c0a3177099\">\n",
              "      Upload widget is only available when the cell has been executed in the\n",
              "      current browser session. Please rerun this cell to enable.\n",
              "      </output>\n",
              "      <script src=\"/nbextensions/google.colab/files.js\"></script> "
            ],
            "text/plain": [
              "<IPython.core.display.HTML object>"
            ]
          },
          "metadata": {
            "tags": []
          }
        },
        {
          "output_type": "stream",
          "text": [
            "Saving DW1999.csv to DW1999.csv\n",
            "User uploaded file \"DW1999.csv\" with length 115535 bytes\n"
          ],
          "name": "stdout"
        }
      ]
    },
    {
      "cell_type": "code",
      "metadata": {
        "id": "dNBcKrshkb_2",
        "colab_type": "code",
        "colab": {
          "base_uri": "https://localhost:8080/",
          "height": 221
        },
        "outputId": "3952f169-f2c7-4a28-fa61-ece9bb8a266a"
      },
      "source": [
        "df=pd.read_csv('DW1999.csv', delimiter=',')\n",
        "print('Number of rows and columns:', df.shape)\n",
        "df.head(5)"
      ],
      "execution_count": 3,
      "outputs": [
        {
          "output_type": "stream",
          "text": [
            "Number of rows and columns: (2675, 10)\n"
          ],
          "name": "stdout"
        },
        {
          "output_type": "execute_result",
          "data": {
            "text/html": [
              "<div>\n",
              "<style scoped>\n",
              "    .dataframe tbody tr th:only-of-type {\n",
              "        vertical-align: middle;\n",
              "    }\n",
              "\n",
              "    .dataframe tbody tr th {\n",
              "        vertical-align: top;\n",
              "    }\n",
              "\n",
              "    .dataframe thead th {\n",
              "        text-align: right;\n",
              "    }\n",
              "</style>\n",
              "<table border=\"1\" class=\"dataframe\">\n",
              "  <thead>\n",
              "    <tr style=\"text-align: right;\">\n",
              "      <th></th>\n",
              "      <th>treat</th>\n",
              "      <th>age</th>\n",
              "      <th>education</th>\n",
              "      <th>black</th>\n",
              "      <th>hispanic</th>\n",
              "      <th>married</th>\n",
              "      <th>nodegree</th>\n",
              "      <th>re74</th>\n",
              "      <th>re75</th>\n",
              "      <th>re78</th>\n",
              "    </tr>\n",
              "  </thead>\n",
              "  <tbody>\n",
              "    <tr>\n",
              "      <th>0</th>\n",
              "      <td>1</td>\n",
              "      <td>37</td>\n",
              "      <td>11</td>\n",
              "      <td>1</td>\n",
              "      <td>0</td>\n",
              "      <td>1</td>\n",
              "      <td>1</td>\n",
              "      <td>0.0</td>\n",
              "      <td>0.0</td>\n",
              "      <td>9930.04590</td>\n",
              "    </tr>\n",
              "    <tr>\n",
              "      <th>1</th>\n",
              "      <td>1</td>\n",
              "      <td>22</td>\n",
              "      <td>9</td>\n",
              "      <td>0</td>\n",
              "      <td>1</td>\n",
              "      <td>0</td>\n",
              "      <td>1</td>\n",
              "      <td>0.0</td>\n",
              "      <td>0.0</td>\n",
              "      <td>3595.89400</td>\n",
              "    </tr>\n",
              "    <tr>\n",
              "      <th>2</th>\n",
              "      <td>1</td>\n",
              "      <td>30</td>\n",
              "      <td>12</td>\n",
              "      <td>1</td>\n",
              "      <td>0</td>\n",
              "      <td>0</td>\n",
              "      <td>0</td>\n",
              "      <td>0.0</td>\n",
              "      <td>0.0</td>\n",
              "      <td>24909.44900</td>\n",
              "    </tr>\n",
              "    <tr>\n",
              "      <th>3</th>\n",
              "      <td>1</td>\n",
              "      <td>27</td>\n",
              "      <td>11</td>\n",
              "      <td>1</td>\n",
              "      <td>0</td>\n",
              "      <td>0</td>\n",
              "      <td>1</td>\n",
              "      <td>0.0</td>\n",
              "      <td>0.0</td>\n",
              "      <td>7506.14600</td>\n",
              "    </tr>\n",
              "    <tr>\n",
              "      <th>4</th>\n",
              "      <td>1</td>\n",
              "      <td>33</td>\n",
              "      <td>8</td>\n",
              "      <td>1</td>\n",
              "      <td>0</td>\n",
              "      <td>0</td>\n",
              "      <td>1</td>\n",
              "      <td>0.0</td>\n",
              "      <td>0.0</td>\n",
              "      <td>289.78989</td>\n",
              "    </tr>\n",
              "  </tbody>\n",
              "</table>\n",
              "</div>"
            ],
            "text/plain": [
              "   treat  age  education  black  ...  nodegree  re74  re75         re78\n",
              "0      1   37         11      1  ...         1   0.0   0.0   9930.04590\n",
              "1      1   22          9      0  ...         1   0.0   0.0   3595.89400\n",
              "2      1   30         12      1  ...         0   0.0   0.0  24909.44900\n",
              "3      1   27         11      1  ...         1   0.0   0.0   7506.14600\n",
              "4      1   33          8      1  ...         1   0.0   0.0    289.78989\n",
              "\n",
              "[5 rows x 10 columns]"
            ]
          },
          "metadata": {
            "tags": []
          },
          "execution_count": 3
        }
      ]
    },
    {
      "cell_type": "markdown",
      "metadata": {
        "id": "hjCvLm02khUk",
        "colab_type": "text"
      },
      "source": [
        "The dataset should contain 10 variables and 2675 cases, matching the 185 (treatment) + 2490 (control) presented in the original study."
      ]
    },
    {
      "cell_type": "markdown",
      "metadata": {
        "id": "QTgUy2h7j02R",
        "colab_type": "text"
      },
      "source": [
        "<br>\n",
        "\n",
        "### <font color=Darkred>2. Descriptive analysis</font>"
      ]
    },
    {
      "cell_type": "markdown",
      "metadata": {
        "id": "sAWBgclPlDBB",
        "colab_type": "text"
      },
      "source": [
        "#### <font color=Darkred>2.1 Summary statistics</font>\n"
      ]
    },
    {
      "cell_type": "code",
      "metadata": {
        "id": "u5OQ07tYpkh3",
        "colab_type": "code",
        "colab": {
          "base_uri": "https://localhost:8080/",
          "height": 359
        },
        "outputId": "54880615-66eb-47b3-f98b-f24d0a06e134"
      },
      "source": [
        "df.describe().round(2).T      # .T = transposed\n",
        "# To get stats by study group, add groupby('treat')"
      ],
      "execution_count": 4,
      "outputs": [
        {
          "output_type": "execute_result",
          "data": {
            "text/html": [
              "<div>\n",
              "<style scoped>\n",
              "    .dataframe tbody tr th:only-of-type {\n",
              "        vertical-align: middle;\n",
              "    }\n",
              "\n",
              "    .dataframe tbody tr th {\n",
              "        vertical-align: top;\n",
              "    }\n",
              "\n",
              "    .dataframe thead th {\n",
              "        text-align: right;\n",
              "    }\n",
              "</style>\n",
              "<table border=\"1\" class=\"dataframe\">\n",
              "  <thead>\n",
              "    <tr style=\"text-align: right;\">\n",
              "      <th></th>\n",
              "      <th>count</th>\n",
              "      <th>mean</th>\n",
              "      <th>std</th>\n",
              "      <th>min</th>\n",
              "      <th>25%</th>\n",
              "      <th>50%</th>\n",
              "      <th>75%</th>\n",
              "      <th>max</th>\n",
              "    </tr>\n",
              "  </thead>\n",
              "  <tbody>\n",
              "    <tr>\n",
              "      <th>treat</th>\n",
              "      <td>2675.0</td>\n",
              "      <td>0.07</td>\n",
              "      <td>0.25</td>\n",
              "      <td>0.0</td>\n",
              "      <td>0.00</td>\n",
              "      <td>0.00</td>\n",
              "      <td>0.00</td>\n",
              "      <td>1.00</td>\n",
              "    </tr>\n",
              "    <tr>\n",
              "      <th>age</th>\n",
              "      <td>2675.0</td>\n",
              "      <td>34.23</td>\n",
              "      <td>10.50</td>\n",
              "      <td>17.0</td>\n",
              "      <td>25.00</td>\n",
              "      <td>32.00</td>\n",
              "      <td>43.50</td>\n",
              "      <td>55.00</td>\n",
              "    </tr>\n",
              "    <tr>\n",
              "      <th>education</th>\n",
              "      <td>2675.0</td>\n",
              "      <td>11.99</td>\n",
              "      <td>3.05</td>\n",
              "      <td>0.0</td>\n",
              "      <td>10.00</td>\n",
              "      <td>12.00</td>\n",
              "      <td>14.00</td>\n",
              "      <td>17.00</td>\n",
              "    </tr>\n",
              "    <tr>\n",
              "      <th>black</th>\n",
              "      <td>2675.0</td>\n",
              "      <td>0.29</td>\n",
              "      <td>0.45</td>\n",
              "      <td>0.0</td>\n",
              "      <td>0.00</td>\n",
              "      <td>0.00</td>\n",
              "      <td>1.00</td>\n",
              "      <td>1.00</td>\n",
              "    </tr>\n",
              "    <tr>\n",
              "      <th>hispanic</th>\n",
              "      <td>2675.0</td>\n",
              "      <td>0.03</td>\n",
              "      <td>0.18</td>\n",
              "      <td>0.0</td>\n",
              "      <td>0.00</td>\n",
              "      <td>0.00</td>\n",
              "      <td>0.00</td>\n",
              "      <td>1.00</td>\n",
              "    </tr>\n",
              "    <tr>\n",
              "      <th>married</th>\n",
              "      <td>2675.0</td>\n",
              "      <td>0.82</td>\n",
              "      <td>0.38</td>\n",
              "      <td>0.0</td>\n",
              "      <td>1.00</td>\n",
              "      <td>1.00</td>\n",
              "      <td>1.00</td>\n",
              "      <td>1.00</td>\n",
              "    </tr>\n",
              "    <tr>\n",
              "      <th>nodegree</th>\n",
              "      <td>2675.0</td>\n",
              "      <td>0.33</td>\n",
              "      <td>0.47</td>\n",
              "      <td>0.0</td>\n",
              "      <td>0.00</td>\n",
              "      <td>0.00</td>\n",
              "      <td>1.00</td>\n",
              "      <td>1.00</td>\n",
              "    </tr>\n",
              "    <tr>\n",
              "      <th>re74</th>\n",
              "      <td>2675.0</td>\n",
              "      <td>18230.00</td>\n",
              "      <td>13722.25</td>\n",
              "      <td>0.0</td>\n",
              "      <td>8816.70</td>\n",
              "      <td>17437.47</td>\n",
              "      <td>25470.47</td>\n",
              "      <td>137148.69</td>\n",
              "    </tr>\n",
              "    <tr>\n",
              "      <th>re75</th>\n",
              "      <td>2675.0</td>\n",
              "      <td>17850.89</td>\n",
              "      <td>13877.78</td>\n",
              "      <td>0.0</td>\n",
              "      <td>7605.29</td>\n",
              "      <td>17008.06</td>\n",
              "      <td>25583.71</td>\n",
              "      <td>156653.23</td>\n",
              "    </tr>\n",
              "    <tr>\n",
              "      <th>re78</th>\n",
              "      <td>2675.0</td>\n",
              "      <td>20502.38</td>\n",
              "      <td>15632.52</td>\n",
              "      <td>0.0</td>\n",
              "      <td>9243.40</td>\n",
              "      <td>19432.10</td>\n",
              "      <td>28815.67</td>\n",
              "      <td>121173.58</td>\n",
              "    </tr>\n",
              "  </tbody>\n",
              "</table>\n",
              "</div>"
            ],
            "text/plain": [
              "            count      mean       std  ...       50%       75%        max\n",
              "treat      2675.0      0.07      0.25  ...      0.00      0.00       1.00\n",
              "age        2675.0     34.23     10.50  ...     32.00     43.50      55.00\n",
              "education  2675.0     11.99      3.05  ...     12.00     14.00      17.00\n",
              "black      2675.0      0.29      0.45  ...      0.00      1.00       1.00\n",
              "hispanic   2675.0      0.03      0.18  ...      0.00      0.00       1.00\n",
              "married    2675.0      0.82      0.38  ...      1.00      1.00       1.00\n",
              "nodegree   2675.0      0.33      0.47  ...      0.00      1.00       1.00\n",
              "re74       2675.0  18230.00  13722.25  ...  17437.47  25470.47  137148.69\n",
              "re75       2675.0  17850.89  13877.78  ...  17008.06  25583.71  156653.23\n",
              "re78       2675.0  20502.38  15632.52  ...  19432.10  28815.67  121173.58\n",
              "\n",
              "[10 rows x 8 columns]"
            ]
          },
          "metadata": {
            "tags": []
          },
          "execution_count": 4
        }
      ]
    },
    {
      "cell_type": "markdown",
      "metadata": {
        "id": "PRww7yakhV9d",
        "colab_type": "text"
      },
      "source": [
        "<br> \n",
        "Let's build a histogram to inspect the distribution of cases by study group.\n",
        "<br>\n",
        "Let's use [`matplotlib`](https://s3.amazonaws.com/assets.datacamp.com/blog_assets/Python_Matplotlib_Cheat_Sheet.pdf) and [`seaborn`](https://s3.amazonaws.com/assets.datacamp.com/blog_assets/Python_Seaborn_Cheat_Sheet.pdf). "
      ]
    },
    {
      "cell_type": "code",
      "metadata": {
        "id": "z6OU1a-I9nRB",
        "colab_type": "code",
        "colab": {
          "base_uri": "https://localhost:8080/",
          "height": 357
        },
        "outputId": "1840011a-e262-4b2c-a011-ac87c5ef47ac"
      },
      "source": [
        "# Step 1 - prepare the data for the plot\n",
        "treatdf = df[df['treat'].isin(['1']) ]\n",
        "controldf = df[df['treat'].isin(['0']) ]\n",
        "\n",
        "# Step 2 - initialize plot\n",
        "plt.figure(figsize=(41,4))\n",
        "\n",
        "# Step 3 - Plots\n",
        "plt.subplot(1,2,1)\n",
        "sns.distplot(controldf['re78'], kde = False, norm_hist = True, \n",
        "             hist_kws=dict(edgecolor=\"k\", linewidth=1))\n",
        "sns.distplot(treatdf['re78'], kde = False, norm_hist = True,\n",
        "             hist_kws=dict(edgecolor=\"k\", linewidth=1)) # To show Frequency, norm_hist = False \n",
        "sns.despine(top=True, right=True, left=False, bottom=False)\n",
        "\n",
        "# Further customize\n",
        "plt.xlabel('In USD', size = 'x-large')\n",
        "plt.xlim(0, 160000)\n",
        "plt.ylabel('Density', size = 'x-large') \n",
        "plt.title('Real earnings (Follow up period)', loc = \"left\", size = 'xx-large', pad = 40)\n",
        "plt.legend(labels=['Control','Treatment']);\n"
      ],
      "execution_count": 5,
      "outputs": [
        {
          "output_type": "display_data",
          "data": {
            "image/png": "[encoded data removed]",
            "text/plain": [
              "<Figure size 2952x288 with 1 Axes>"
            ]
          },
          "metadata": {
            "tags": []
          }
        }
      ]
    },
    {
      "cell_type": "markdown",
      "metadata": {
        "id": "oS87O46cJNBS",
        "colab_type": "text"
      },
      "source": [
        "<br>\n",
        "\n",
        "#### <font color=Darkred>2.1 Comparative stats for earnings</font>\n",
        "\n",
        "\n"
      ]
    },
    {
      "cell_type": "markdown",
      "metadata": {
        "id": "F9zdprireUn6",
        "colab_type": "text"
      },
      "source": [
        "<br>\n",
        "\n",
        "> __2.1.1. Follow-up period: Treatment group _versus_ Control group__"
      ]
    },
    {
      "cell_type": "markdown",
      "metadata": {
        "id": "TqT9BuWh4oFg",
        "colab_type": "text"
      },
      "source": [
        "One possible measure of the effect of training is the difference in earnings in the follow-up period between the treated and the control groups. This leads to the estimate __6,349 − 21,554 =__ <font color=Darkred>__−15,205__</font>. \n",
        "<br><br> \n",
        "This is\n",
        "called a __treatment–control comparison__ estimator as it mimics the analysis in an\n",
        "experimental setting."
      ]
    },
    {
      "cell_type": "code",
      "metadata": {
        "id": "xxe7m2c0T-lq",
        "colab_type": "code",
        "colab": {
          "base_uri": "https://localhost:8080/",
          "height": 317
        },
        "outputId": "fcb27c97-0395-4233-aa8e-e94b3c810132"
      },
      "source": [
        "sns.catplot(x=\"re78\", y=\"treat\",\n",
        "                   kind=\"box\", orient = \"h\", \n",
        "                   height=4, aspect=4,\n",
        "                   data=df,\n",
        "                   palette = \"Paired\") # To show the mean, add showmeans=True\n",
        "\n",
        "plt.xlabel('In USD', size = 'x-large')\n",
        "plt.xlim(0, 160000)\n",
        "plt.ylabel('Treatment = 1, Control = 0', size = 'large')\n",
        "plt.title('Real earnings (Follow Up period)', loc = \"left\", \n",
        "          size = 'xx-large', pad = 40)\n",
        "plt.tight_layout();"
      ],
      "execution_count": 6,
      "outputs": [
        {
          "output_type": "display_data",
          "data": {
            "image/png": "[encoded data removed]",
            "text/plain": [
              "<Figure size 1152x288 with 1 Axes>"
            ]
          },
          "metadata": {
            "tags": []
          }
        }
      ]
    },
    {
      "cell_type": "markdown",
      "metadata": {
        "id": "QPLdOPp6K-WZ",
        "colab_type": "text"
      },
      "source": [
        "<br>\n",
        "\n",
        ">__2.1.2. Treatment group: Baseline _versus_ Follow-up period__"
      ]
    },
    {
      "cell_type": "markdown",
      "metadata": {
        "id": "o61xMPDG7IG5",
        "colab_type": "text"
      },
      "source": [
        "A second approach is a before–after comparison, which looks at the change between baseline and follow-up earnings. Using mean earnings for the treated group leads to the difference estimate __6,349 − 1,532 =__ <font color=Darkblue>__4,817__</font>.\n",
        "<br><br>\n",
        "This estimate may be misleading as it reflects all changes over this time period, such as an improved economy, and not just training."
      ]
    },
    {
      "cell_type": "code",
      "metadata": {
        "id": "rMs0gyB7oK37",
        "colab_type": "code",
        "colab": {
          "base_uri": "https://localhost:8080/",
          "height": 317
        },
        "outputId": "3653644f-f1ab-48f8-fadd-b90e2f13700e"
      },
      "source": [
        "plt.figure(figsize=(16,4))\n",
        "\n",
        "data1=df.loc[df['treat'] == 1]\n",
        "data1=data1[['re78','re75']]\n",
        "data1.columns = ['Follow up','Baseline']\n",
        "\n",
        "sns.boxplot(data=data1, orient=\"h\") # To show the mean, add showmeans=True\n",
        "plt.xlabel('In USD', size = 'x-large')\n",
        "plt.xlim(0, 70000)\n",
        "plt.ylabel('Period', size = 'large')\n",
        "plt.title('Real earnings (Baseline versus Follow up)', loc = \"left\", size = 'xx-large', pad = 40)\n",
        "sns.despine(top=True, right=True, left=False, bottom=False)\n",
        "\n",
        "plt.tight_layout();\n",
        "\n",
        "# data1.describe()"
      ],
      "execution_count": 7,
      "outputs": [
        {
          "output_type": "display_data",
          "data": {
            "image/png": "[encoded data removed]",
            "text/plain": [
              "<Figure size 1152x288 with 1 Axes>"
            ]
          },
          "metadata": {
            "tags": []
          }
        }
      ]
    },
    {
      "cell_type": "markdown",
      "metadata": {
        "id": "PfNZZtKa8YMA",
        "colab_type": "text"
      },
      "source": [
        "<br>\n",
        "\n",
        "### <font color=Darkred>3. Causal inference</font>"
      ]
    },
    {
      "cell_type": "markdown",
      "metadata": {
        "id": "VxfzB117Cn40",
        "colab_type": "text"
      },
      "source": [
        "<br>\n",
        "\n",
        "#### <font color=Darkred>3.1 Difference in differences estimation</font>"
      ]
    },
    {
      "cell_type": "code",
      "metadata": {
        "id": "Z90p9jnrE09e",
        "colab_type": "code",
        "colab": {
          "base_uri": "https://localhost:8080/",
          "height": 204
        },
        "outputId": "34e2266a-7647-47db-8f79-cecd0834152b"
      },
      "source": [
        "df['d_earnings'] = df['re78'] - df['re75']  # d_earnings is the change in earning 'before-after'.\n",
        "df['age2'] = df['age']*df['age']\n",
        "df.head()\n"
      ],
      "execution_count": 8,
      "outputs": [
        {
          "output_type": "execute_result",
          "data": {
            "text/html": [
              "<div>\n",
              "<style scoped>\n",
              "    .dataframe tbody tr th:only-of-type {\n",
              "        vertical-align: middle;\n",
              "    }\n",
              "\n",
              "    .dataframe tbody tr th {\n",
              "        vertical-align: top;\n",
              "    }\n",
              "\n",
              "    .dataframe thead th {\n",
              "        text-align: right;\n",
              "    }\n",
              "</style>\n",
              "<table border=\"1\" class=\"dataframe\">\n",
              "  <thead>\n",
              "    <tr style=\"text-align: right;\">\n",
              "      <th></th>\n",
              "      <th>treat</th>\n",
              "      <th>age</th>\n",
              "      <th>education</th>\n",
              "      <th>black</th>\n",
              "      <th>hispanic</th>\n",
              "      <th>married</th>\n",
              "      <th>nodegree</th>\n",
              "      <th>re74</th>\n",
              "      <th>re75</th>\n",
              "      <th>re78</th>\n",
              "      <th>d_earnings</th>\n",
              "      <th>age2</th>\n",
              "    </tr>\n",
              "  </thead>\n",
              "  <tbody>\n",
              "    <tr>\n",
              "      <th>0</th>\n",
              "      <td>1</td>\n",
              "      <td>37</td>\n",
              "      <td>11</td>\n",
              "      <td>1</td>\n",
              "      <td>0</td>\n",
              "      <td>1</td>\n",
              "      <td>1</td>\n",
              "      <td>0.0</td>\n",
              "      <td>0.0</td>\n",
              "      <td>9930.04590</td>\n",
              "      <td>9930.04590</td>\n",
              "      <td>1369</td>\n",
              "    </tr>\n",
              "    <tr>\n",
              "      <th>1</th>\n",
              "      <td>1</td>\n",
              "      <td>22</td>\n",
              "      <td>9</td>\n",
              "      <td>0</td>\n",
              "      <td>1</td>\n",
              "      <td>0</td>\n",
              "      <td>1</td>\n",
              "      <td>0.0</td>\n",
              "      <td>0.0</td>\n",
              "      <td>3595.89400</td>\n",
              "      <td>3595.89400</td>\n",
              "      <td>484</td>\n",
              "    </tr>\n",
              "    <tr>\n",
              "      <th>2</th>\n",
              "      <td>1</td>\n",
              "      <td>30</td>\n",
              "      <td>12</td>\n",
              "      <td>1</td>\n",
              "      <td>0</td>\n",
              "      <td>0</td>\n",
              "      <td>0</td>\n",
              "      <td>0.0</td>\n",
              "      <td>0.0</td>\n",
              "      <td>24909.44900</td>\n",
              "      <td>24909.44900</td>\n",
              "      <td>900</td>\n",
              "    </tr>\n",
              "    <tr>\n",
              "      <th>3</th>\n",
              "      <td>1</td>\n",
              "      <td>27</td>\n",
              "      <td>11</td>\n",
              "      <td>1</td>\n",
              "      <td>0</td>\n",
              "      <td>0</td>\n",
              "      <td>1</td>\n",
              "      <td>0.0</td>\n",
              "      <td>0.0</td>\n",
              "      <td>7506.14600</td>\n",
              "      <td>7506.14600</td>\n",
              "      <td>729</td>\n",
              "    </tr>\n",
              "    <tr>\n",
              "      <th>4</th>\n",
              "      <td>1</td>\n",
              "      <td>33</td>\n",
              "      <td>8</td>\n",
              "      <td>1</td>\n",
              "      <td>0</td>\n",
              "      <td>0</td>\n",
              "      <td>1</td>\n",
              "      <td>0.0</td>\n",
              "      <td>0.0</td>\n",
              "      <td>289.78989</td>\n",
              "      <td>289.78989</td>\n",
              "      <td>1089</td>\n",
              "    </tr>\n",
              "  </tbody>\n",
              "</table>\n",
              "</div>"
            ],
            "text/plain": [
              "   treat  age  education  black  ...  re75         re78   d_earnings  age2\n",
              "0      1   37         11      1  ...   0.0   9930.04590   9930.04590  1369\n",
              "1      1   22          9      0  ...   0.0   3595.89400   3595.89400   484\n",
              "2      1   30         12      1  ...   0.0  24909.44900  24909.44900   900\n",
              "3      1   27         11      1  ...   0.0   7506.14600   7506.14600   729\n",
              "4      1   33          8      1  ...   0.0    289.78989    289.78989  1089\n",
              "\n",
              "[5 rows x 12 columns]"
            ]
          },
          "metadata": {
            "tags": []
          },
          "execution_count": 8
        }
      ]
    },
    {
      "cell_type": "code",
      "metadata": {
        "id": "MK-iaSWyFB2v",
        "colab_type": "code",
        "colab": {
          "base_uri": "https://localhost:8080/",
          "height": 595
        },
        "outputId": "742ce674-ff17-48ef-bdf6-2a8d828ab385"
      },
      "source": [
        "# Estimate the DID estimate using the statsmodel package (5 lines of code)\n",
        "\n",
        "y = df[['d_earnings']]\n",
        "X = df[['treat','age','age2','education','black',\n",
        "                       'hispanic','married','nodegree',\n",
        "                       're74']]\n",
        "\n",
        "model = sm.OLS(y, X)\n",
        "results = model.fit()\n",
        "print(results.summary())"
      ],
      "execution_count": 9,
      "outputs": [
        {
          "output_type": "stream",
          "text": [
            "                                 OLS Regression Results                                \n",
            "=======================================================================================\n",
            "Dep. Variable:             d_earnings   R-squared (uncentered):                   0.091\n",
            "Model:                            OLS   Adj. R-squared (uncentered):              0.088\n",
            "Method:                 Least Squares   F-statistic:                              29.60\n",
            "Date:                Wed, 23 Oct 2019   Prob (F-statistic):                    1.29e-49\n",
            "Time:                        09:36:30   Log-Likelihood:                         -28565.\n",
            "No. Observations:                2675   AIC:                                  5.715e+04\n",
            "Df Residuals:                    2666   BIC:                                  5.720e+04\n",
            "Df Model:                           9                                                  \n",
            "Covariance Type:            nonrobust                                                  \n",
            "==============================================================================\n",
            "                 coef    std err          t      P>|t|      [0.025      0.975]\n",
            "------------------------------------------------------------------------------\n",
            "treat       1507.4471    951.065      1.585      0.113    -357.452    3372.347\n",
            "age          -28.3539     89.013     -0.319      0.750    -202.895     146.187\n",
            "age2          -0.9629      1.296     -0.743      0.458      -3.505       1.579\n",
            "education    428.6345     97.953      4.376      0.000     236.563     620.706\n",
            "black       -270.1006    513.267     -0.526      0.599   -1276.543     736.342\n",
            "hispanic    2940.1238   1136.373      2.587      0.010     711.862    5168.385\n",
            "married      972.7003    617.012      1.576      0.115    -237.171    2182.571\n",
            "nodegree     455.1821    643.598      0.707      0.479    -806.819    1717.183\n",
            "re74          -0.0743      0.017     -4.312      0.000      -0.108      -0.041\n",
            "==============================================================================\n",
            "Omnibus:                      880.851   Durbin-Watson:                   1.859\n",
            "Prob(Omnibus):                  0.000   Jarque-Bera (JB):            24946.869\n",
            "Skew:                           0.952   Prob(JB):                         0.00\n",
            "Kurtosis:                      17.839   Cond. No.                     1.29e+05\n",
            "==============================================================================\n",
            "\n",
            "Warnings:\n",
            "[1] Standard Errors assume that the covariance matrix of the errors is correctly specified.\n",
            "[2] The condition number is large, 1.29e+05. This might indicate that there are\n",
            "strong multicollinearity or other numerical problems.\n"
          ],
          "name": "stdout"
        }
      ]
    },
    {
      "cell_type": "markdown",
      "metadata": {
        "id": "_goGRKsvVcNo",
        "colab_type": "text"
      },
      "source": [
        "The treatment effect is the value of the coefficient associated to __'treat'= 1,507.44__."
      ]
    },
    {
      "cell_type": "markdown",
      "metadata": {
        "id": "ikb4UjY63Pp0",
        "colab_type": "text"
      },
      "source": [
        "<br>\n",
        "\n",
        "#### <font color=Darkred>3.2 Estimation using DoWhy</font>"
      ]
    },
    {
      "cell_type": "markdown",
      "metadata": {
        "id": "7HThcVaZCJ9G",
        "colab_type": "text"
      },
      "source": [
        "<br>\n",
        "\n",
        "Microsoft’s [DoWhy](https://github.com/Microsoft/dowhy) is a Python-based library for __causal inference__. \n",
        "\n",
        "<br>\n",
        "\n",
        "To accomplish its goal, DoWhy models any causal inference problem in a workflow with four fundamental steps: \n",
        "\n",
        "* 1. __Model__: models each problem using a graph of causal relationships.\n",
        "* 2. __Identification strategy__: using the input graph, it finds all possible ways of identifying a desired causal effect based on the graphical model.\n",
        "* 3. __Estimation__: estimates the causal effect using statistical methods such propensity-based-stratification or propensity-score-matching that focus on estimating the treatment assignmente.\n",
        "* 4. __Verify__: uses different robustness methods to verify the validity of the causal effect."
      ]
    },
    {
      "cell_type": "code",
      "metadata": {
        "id": "Pl9PfWQKl9Th",
        "colab_type": "code",
        "colab": {}
      },
      "source": [
        "import dowhy\n",
        "from dowhy.do_why import CausalModel\n",
        "from IPython.display import Image, display"
      ],
      "execution_count": 0,
      "outputs": []
    },
    {
      "cell_type": "code",
      "metadata": {
        "id": "gDBxDYJwIQ1Z",
        "colab_type": "code",
        "colab": {
          "base_uri": "https://localhost:8080/",
          "height": 51
        },
        "outputId": "0a8bc034-810a-4978-fc9d-fe9f3f0824b6"
      },
      "source": [
        "# Create a causal model from the data and given graph\n",
        "model=CausalModel(\n",
        "        data = df,\n",
        "        treatment='treat',\n",
        "        outcome='d_earnings',\n",
        "        common_causes=['age','age2', 'education','black',\n",
        "                       'hispanic','married','nodegree',\n",
        "                       're74'])\n",
        "                  "
      ],
      "execution_count": 11,
      "outputs": [
        {
          "output_type": "stream",
          "text": [
            "WARNING:dowhy.do_why:Causal Graph not provided. DoWhy will construct a graph based on data inputs.\n",
            "INFO:dowhy.do_why:Model to find the causal effect of treatment ['treat'] on outcome ['d_earnings']\n"
          ],
          "name": "stderr"
        }
      ]
    },
    {
      "cell_type": "code",
      "metadata": {
        "id": "87NwJDFSXIFX",
        "colab_type": "code",
        "colab": {
          "base_uri": "https://localhost:8080/",
          "height": 288
        },
        "outputId": "d9725872-bff7-4ef5-d097-dd0116df06bb"
      },
      "source": [
        "model.view_model()\n",
        "from IPython.display import Image, display\n",
        "display(Image(filename=\"causal_model.png\"))"
      ],
      "execution_count": 12,
      "outputs": [
        {
          "output_type": "display_data",
          "data": {
            "image/png": "[encoded data removed]",
            "text/plain": [
              "<IPython.core.display.Image object>"
            ]
          },
          "metadata": {
            "tags": []
          }
        }
      ]
    },
    {
      "cell_type": "code",
      "metadata": {
        "id": "Ge9UQ9Q-aXIY",
        "colab_type": "code",
        "colab": {
          "base_uri": "https://localhost:8080/",
          "height": 105
        },
        "outputId": "23450b6f-46c8-48cf-87ed-5a172e94a62e"
      },
      "source": [
        "identified_estimand = model.identify_effect(proceed_when_unidentifiable=True)"
      ],
      "execution_count": 13,
      "outputs": [
        {
          "output_type": "stream",
          "text": [
            "INFO:dowhy.causal_identifier:Common causes of treatment and outcome:['nodegree', 're74', 'married', 'age2', 'hispanic', 'black', 'education', 'age', 'U']\n",
            "WARNING:dowhy.causal_identifier:There are unobserved common causes. Causal effect cannot be identified.\n",
            "INFO:dowhy.causal_identifier:Continuing by ignoring these unobserved confounders because proceed_when_unidentifiable flag is True.\n",
            "INFO:dowhy.causal_identifier:Instrumental variables for treatment and outcome:[]\n"
          ],
          "name": "stderr"
        }
      ]
    },
    {
      "cell_type": "markdown",
      "metadata": {
        "id": "qSJCmEYC1T37",
        "colab_type": "text"
      },
      "source": [
        "<br>\n",
        "\n",
        ">__3.2.1. Linear regression estimation__"
      ]
    },
    {
      "cell_type": "code",
      "metadata": {
        "id": "HmByV6z8btde",
        "colab_type": "code",
        "colab": {
          "base_uri": "https://localhost:8080/",
          "height": 547
        },
        "outputId": "89b71ef7-393a-4c37-e23d-64b49ce69331"
      },
      "source": [
        "causal_estimate_reg = model.estimate_effect(identified_estimand,\n",
        "        method_name=\"backdoor.linear_regression\",\n",
        "        test_significance=True\n",
        "        )                                  \n",
        "print(causal_estimate_reg)\n",
        "print(\"The OLS regression with controls estimate is \" + str(causal_estimate_reg.value))"
      ],
      "execution_count": 14,
      "outputs": [
        {
          "output_type": "stream",
          "text": [
            "INFO:dowhy.causal_estimator:INFO: Using Linear Regression Estimator\n",
            "INFO:dowhy.causal_estimator:b: d_earnings~treat+nodegree+re74+married+age2+hispanic+black+education+age\n"
          ],
          "name": "stderr"
        },
        {
          "output_type": "stream",
          "text": [
            "*** Causal Estimate ***\n",
            "\n",
            "## Target estimand\n",
            "Estimand type: ate\n",
            "### Estimand : 1\n",
            "Estimand name: backdoor\n",
            "Estimand expression:\n",
            "  d                                                                           \n",
            "──────(Expectation(d_earnings|nodegree,re74,married,age2,hispanic,black,educat\n",
            "dtreat                                                                        \n",
            "\n",
            "         \n",
            "ion,age))\n",
            "         \n",
            "Estimand assumption 1, Unconfoundedness: If U→treat and U→d_earnings then P(d_earnings|treat,nodegree,re74,married,age2,hispanic,black,education,age,U) = P(d_earnings|treat,nodegree,re74,married,age2,hispanic,black,education,age)\n",
            "### Estimand : 2\n",
            "Estimand name: iv\n",
            "No such variable found!\n",
            "\n",
            "## Realized estimand\n",
            "b: d_earnings~treat+nodegree+re74+married+age2+hispanic+black+education+age\n",
            "## Estimate\n",
            "Value: 1551.7613918945194\n",
            "\n",
            "## Statistical Significance\n",
            "p-value: 0.06599999999999995\n",
            "\n",
            "The OLS regression with controls estimate is 1551.7613918945194\n"
          ],
          "name": "stdout"
        }
      ]
    },
    {
      "cell_type": "markdown",
      "metadata": {
        "id": "3Y8SLmqRJHoe",
        "colab_type": "text"
      },
      "source": [
        "<br>\n",
        "\n",
        ">__3.2.2. Propensity score stratification__"
      ]
    },
    {
      "cell_type": "code",
      "metadata": {
        "id": "lZJ8Bo39JIeh",
        "colab_type": "code",
        "colab": {
          "base_uri": "https://localhost:8080/",
          "height": 530
        },
        "outputId": "e91bd11a-690a-49e0-94e6-7a5c7c332f73"
      },
      "source": [
        "causal_estimate_strat = model.estimate_effect(identified_estimand,\n",
        "        method_name=\"backdoor.propensity_score_stratification\")\n",
        "print(causal_estimate_strat)\n",
        "print(\"The stratification estimate is \" + str(causal_estimate_strat.value))"
      ],
      "execution_count": 15,
      "outputs": [
        {
          "output_type": "stream",
          "text": [
            "INFO:dowhy.causal_estimator:INFO: Using Propensity Score Stratification Estimator\n",
            "INFO:dowhy.causal_estimator:b: d_earnings~treat+nodegree+re74+married+age2+hispanic+black+education+age\n"
          ],
          "name": "stderr"
        },
        {
          "output_type": "stream",
          "text": [
            "*** Causal Estimate ***\n",
            "\n",
            "## Target estimand\n",
            "Estimand type: ate\n",
            "### Estimand : 1\n",
            "Estimand name: backdoor\n",
            "Estimand expression:\n",
            "  d                                                                           \n",
            "──────(Expectation(d_earnings|nodegree,re74,married,age2,hispanic,black,educat\n",
            "dtreat                                                                        \n",
            "\n",
            "         \n",
            "ion,age))\n",
            "         \n",
            "Estimand assumption 1, Unconfoundedness: If U→treat and U→d_earnings then P(d_earnings|treat,nodegree,re74,married,age2,hispanic,black,education,age,U) = P(d_earnings|treat,nodegree,re74,married,age2,hispanic,black,education,age)\n",
            "### Estimand : 2\n",
            "Estimand name: iv\n",
            "No such variable found!\n",
            "\n",
            "## Realized estimand\n",
            "b: d_earnings~treat+nodegree+re74+married+age2+hispanic+black+education+age\n",
            "## Estimate\n",
            "Value: 2537.7162077013513\n",
            "\n",
            "The stratification estimate is 2537.7162077013513\n"
          ],
          "name": "stdout"
        },
        {
          "output_type": "stream",
          "text": [
            "/usr/local/lib/python3.6/dist-packages/sklearn/linear_model/logistic.py:432: FutureWarning: Default solver will be changed to 'lbfgs' in 0.22. Specify a solver to silence this warning.\n",
            "  FutureWarning)\n"
          ],
          "name": "stderr"
        }
      ]
    },
    {
      "cell_type": "markdown",
      "metadata": {
        "id": "VN2I3pQ72yMl",
        "colab_type": "text"
      },
      "source": [
        "<br>\n",
        "\n",
        ">__3.2.3. Propensity score matching__"
      ]
    },
    {
      "cell_type": "code",
      "metadata": {
        "id": "SwGmbrinzkYX",
        "colab_type": "code",
        "colab": {
          "base_uri": "https://localhost:8080/",
          "height": 530
        },
        "outputId": "bf4e2243-4765-49d2-f574-37060aea26a0"
      },
      "source": [
        "causal_estimate_match = model.estimate_effect(identified_estimand,\n",
        "        method_name=\"backdoor.propensity_score_matching\")\n",
        "print(causal_estimate_match)\n",
        "print(\"The matching estimate is\" + str(causal_estimate_match.value))"
      ],
      "execution_count": 16,
      "outputs": [
        {
          "output_type": "stream",
          "text": [
            "INFO:dowhy.causal_estimator:INFO: Using Propensity Score Matching Estimator\n",
            "INFO:dowhy.causal_estimator:b: d_earnings~treat+nodegree+re74+married+age2+hispanic+black+education+age\n",
            "/usr/local/lib/python3.6/dist-packages/sklearn/linear_model/logistic.py:947: ConvergenceWarning: lbfgs failed to converge. Increase the number of iterations.\n",
            "  \"of iterations.\", ConvergenceWarning)\n"
          ],
          "name": "stderr"
        },
        {
          "output_type": "stream",
          "text": [
            "*** Causal Estimate ***\n",
            "\n",
            "## Target estimand\n",
            "Estimand type: ate\n",
            "### Estimand : 1\n",
            "Estimand name: backdoor\n",
            "Estimand expression:\n",
            "  d                                                                           \n",
            "──────(Expectation(d_earnings|nodegree,re74,married,age2,hispanic,black,educat\n",
            "dtreat                                                                        \n",
            "\n",
            "         \n",
            "ion,age))\n",
            "         \n",
            "Estimand assumption 1, Unconfoundedness: If U→treat and U→d_earnings then P(d_earnings|treat,nodegree,re74,married,age2,hispanic,black,education,age,U) = P(d_earnings|treat,nodegree,re74,married,age2,hispanic,black,education,age)\n",
            "### Estimand : 2\n",
            "Estimand name: iv\n",
            "No such variable found!\n",
            "\n",
            "## Realized estimand\n",
            "b: d_earnings~treat+nodegree+re74+married+age2+hispanic+black+education+age\n",
            "## Estimate\n",
            "Value: 2910.516851070273\n",
            "\n",
            "The matching estimate is2910.516851070273\n"
          ],
          "name": "stdout"
        }
      ]
    },
    {
      "cell_type": "markdown",
      "metadata": {
        "id": "yNPotTHC-RBd",
        "colab_type": "text"
      },
      "source": [
        "<br>\n",
        "\n",
        "#### <font color=Darkred>3.3 Robustness checks</font>"
      ]
    },
    {
      "cell_type": "markdown",
      "metadata": {
        "id": "o7cdbmPz-jF6",
        "colab_type": "text"
      },
      "source": [
        ">__3.3.1. Data subset refuter__\n",
        "Dropping a random portion of data to see how sensitive\n"
      ]
    },
    {
      "cell_type": "code",
      "metadata": {
        "id": "CcrRTFFt9-xZ",
        "colab_type": "code",
        "colab": {
          "base_uri": "https://localhost:8080/",
          "height": 119
        },
        "outputId": "c8c8b4c9-8cc9-4ce0-8170-486c49c821f0"
      },
      "source": [
        "res_subset=model.refute_estimate(identified_estimand, causal_estimate_match,\n",
        "        method_name=\"data_subset_refuter\", subset_fraction=0.9)\n",
        "print(res_subset)"
      ],
      "execution_count": 17,
      "outputs": [
        {
          "output_type": "stream",
          "text": [
            "INFO:dowhy.causal_estimator:INFO: Using Propensity Score Matching Estimator\n",
            "INFO:dowhy.causal_estimator:b: d_earnings~treat+nodegree+re74+married+age2+hispanic+black+education+age\n"
          ],
          "name": "stderr"
        },
        {
          "output_type": "stream",
          "text": [
            "Refute: Use a subset of data\n",
            "Estimated effect:(2910.516851070273,)\n",
            "New effect:(2916.524780842107,)\n",
            "\n"
          ],
          "name": "stdout"
        }
      ]
    },
    {
      "cell_type": "markdown",
      "metadata": {
        "id": "08pS9q-l-wx0",
        "colab_type": "text"
      },
      "source": [
        ">__3.3.2. Adding a random common cause__\n",
        "adds a random common cause, a noise "
      ]
    },
    {
      "cell_type": "code",
      "metadata": {
        "id": "eL37201_-xAR",
        "colab_type": "code",
        "colab": {
          "base_uri": "https://localhost:8080/",
          "height": 173
        },
        "outputId": "fb254f2c-2a51-48c5-d4b0-3b1c6c90a069"
      },
      "source": [
        "refute_results=model.refute_estimate(identified_estimand, causal_estimate_match,\n",
        "        method_name=\"random_common_cause\")\n",
        "print(refute_results)"
      ],
      "execution_count": 18,
      "outputs": [
        {
          "output_type": "stream",
          "text": [
            "INFO:dowhy.causal_estimator:INFO: Using Propensity Score Matching Estimator\n",
            "INFO:dowhy.causal_estimator:b: d_earnings~treat+nodegree+re74+married+age2+hispanic+black+education+age+w_random\n",
            "/usr/local/lib/python3.6/dist-packages/sklearn/linear_model/logistic.py:947: ConvergenceWarning: lbfgs failed to converge. Increase the number of iterations.\n",
            "  \"of iterations.\", ConvergenceWarning)\n"
          ],
          "name": "stderr"
        },
        {
          "output_type": "stream",
          "text": [
            "Refute: Add a Random Common Cause\n",
            "Estimated effect:(2910.516851070273,)\n",
            "New effect:(2749.201014799997,)\n",
            "\n"
          ],
          "name": "stdout"
        }
      ]
    },
    {
      "cell_type": "markdown",
      "metadata": {
        "id": "uskDo8CG_YC5",
        "colab_type": "text"
      },
      "source": [
        ">__3.3.3. Placebo test__\n",
        "treatment variable is substituted with a random placebo, has to be zero or negative, because placebo shouldnt have any impact"
      ]
    },
    {
      "cell_type": "code",
      "metadata": {
        "id": "5yvC6X74_ZTg",
        "colab_type": "code",
        "colab": {
          "base_uri": "https://localhost:8080/",
          "height": 119
        },
        "outputId": "157f8332-92a5-4177-bd30-183fe14d42a0"
      },
      "source": [
        "res_placebo=model.refute_estimate(identified_estimand, causal_estimate_match,\n",
        "        method_name=\"placebo_treatment_refuter\", placebo_type=\"permute\")\n",
        "print(res_placebo)\n"
      ],
      "execution_count": 19,
      "outputs": [
        {
          "output_type": "stream",
          "text": [
            "INFO:dowhy.causal_estimator:INFO: Using Propensity Score Matching Estimator\n",
            "INFO:dowhy.causal_estimator:b: d_earnings~placebo+nodegree+re74+married+age2+hispanic+black+education+age\n"
          ],
          "name": "stderr"
        },
        {
          "output_type": "stream",
          "text": [
            "Refute: Use a Placebo Treatment\n",
            "Estimated effect:(2910.516851070273,)\n",
            "New effect:(-626.9231766486486,)\n",
            "\n"
          ],
          "name": "stdout"
        }
      ]
    },
    {
      "cell_type": "markdown",
      "metadata": {
        "id": "rDJseEBuTqul",
        "colab_type": "text"
      },
      "source": [
        "<br>\n",
        "\n",
        "### <font color=Darkred>4. Discussion of the results</font>"
      ]
    },
    {
      "cell_type": "markdown",
      "metadata": {
        "id": "kZY62AxZUMy9",
        "colab_type": "text"
      },
      "source": [
        "#### <font color=Darkred>4.1 Comparison with experimental and observational results</font>"
      ]
    },
    {
      "cell_type": "markdown",
      "metadata": {
        "id": "RiRjOZoTUeJv",
        "colab_type": "text"
      },
      "source": [
        "> * The estimates from observational estimates often differ significantly from the experimental results, which were around 900 dollars (see [Lalonde, 1986, p.609](http://people.hbs.edu/nashraf/LaLonde_1986.pdf)). \n",
        "* This study concluded that many of the procedures used to evaluate employment and training programs would not have yielded accurate or precise estimates of the impact of the training program. \n",
        "* Moreover, even when these estimates pass conventional specification tests, they still fail to replicate the experimentally determined\n",
        "results.\n",
        "\n",
        "> * Later on, [Dehejia and Wahba (2002)](https://nyuscholars.nyu.edu/en/publications/propensity-score-matching-methods-for-nonexperimental-causal-stud) showed that matching methods are a useful addition and complement to the standard techniques. \n",
        "* They help to build convincing counterfactuals because they construct a suitable control group in non-experimental settings.\n",
        "\n",
        "> * Using packages like DoWhy speeds up the process of finding convincing countefactuals by testing different identification strategies and estimation processes.\n",
        "* There are other similar packages like [`causalinference`](http://causalinferenceinpython.org/) [(Wong, 2016)](http://causalinferenceinpython.org/) and [`causalml`](https://github.com/uber/causalml) [Uber Engineering, 2019](https://eng.uber.com/causal-inference-at-uber/)."
      ]
    }
  ]
}