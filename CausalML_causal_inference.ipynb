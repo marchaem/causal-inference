{
  "nbformat": 4,
  "nbformat_minor": 0,
  "metadata": {
    "colab": {
      "name": "CausalML_causal_inference.ipynb",
      "provenance": [],
      "collapsed_sections": [],
      "toc_visible": true,
      "include_colab_link": true
    },
    "kernelspec": {
      "name": "python3",
      "display_name": "Python 3"
    }
  },
  "cells": [
    {
      "cell_type": "markdown",
      "metadata": {
        "id": "view-in-github",
        "colab_type": "text"
      },
      "source": [
        "<a href=\"https://colab.research.google.com/github/marchaem/causal-inference/blob/master/CausalML_causal_inference.ipynb\" target=\"_parent\"><img src=\"https://colab.research.google.com/assets/colab-badge.svg\" alt=\"Open In Colab\"/></a>"
      ]
    },
    {
      "cell_type": "markdown",
      "metadata": {
        "id": "BSQ92RbbgfsZ",
        "colab_type": "text"
      },
      "source": [
        "# <font color=Darkred>Causal inference in observational data</font>\n",
        "---\n",
        "\n",
        "\n",
        "## <font color=Darkblue>Identifying the impact of an email marketing campaign.  </font>\n",
        "\n",
        "> Hillstrom, K. (2008) __The MineThatData e-mail analytics and data mining challenge__. [MineThatData blog](http://blog.minethatdata.com/2008/03/minethatdata-e-mail-analytics-and-data.html). Accessed 15 October 2019."
      ]
    },
    {
      "cell_type": "markdown",
      "metadata": {
        "id": "Ku7wvCn9YI79",
        "colab_type": "text"
      },
      "source": [
        "<br>\n",
        "\n",
        "Install [`causalml`](https://github.com/uber/causalml): a `python` package for uplift modeling and causal inference with machine learning.\n",
        "<br> \n",
        "\n",
        "\n",
        "![](https://neurohive.io/wp-content/uploads/2019/08/Snimok-ekrana-2019-08-30-v-23.43.23.png)\n",
        "\n",
        "Essentially, it estimates the causal impact of intervention __T__ on outcome __Y__ for users with observed features __X__,\n",
        "without strong assumptions on the model form."
      ]
    },
    {
      "cell_type": "code",
      "metadata": {
        "id": "M1aNqRG5Wi7q",
        "colab_type": "code",
        "colab": {
          "base_uri": "https://localhost:8080/",
          "height": 136
        },
        "outputId": "5c942979-5678-483d-d0d3-eda5b3dbfda1"
      },
      "source": [
        "# Git clone the Guthub repository\n",
        "!git clone https://github.com/uber/causalml"
      ],
      "execution_count": 1,
      "outputs": [
        {
          "output_type": "stream",
          "text": [
            "Cloning into 'causalml'...\n",
            "remote: Enumerating objects: 69, done.\u001b[K\n",
            "remote: Counting objects:   1% (1/69)\u001b[K\rremote: Counting objects:   2% (2/69)\u001b[K\rremote: Counting objects:   4% (3/69)\u001b[K\rremote: Counting objects:   5% (4/69)\u001b[K\rremote: Counting objects:   7% (5/69)\u001b[K\rremote: Counting objects:   8% (6/69)\u001b[K\rremote: Counting objects:  10% (7/69)\u001b[K\rremote: Counting objects:  11% (8/69)\u001b[K\rremote: Counting objects:  13% (9/69)\u001b[K\rremote: Counting objects:  14% (10/69)\u001b[K\rremote: Counting objects:  15% (11/69)\u001b[K\rremote: Counting objects:  17% (12/69)\u001b[K\rremote: Counting objects:  18% (13/69)\u001b[K\rremote: Counting objects:  20% (14/69)\u001b[K\rremote: Counting objects:  21% (15/69)\u001b[K\rremote: Counting objects:  23% (16/69)\u001b[K\rremote: Counting objects:  24% (17/69)\u001b[K\rremote: Counting objects:  26% (18/69)\u001b[K\rremote: Counting objects:  27% (19/69)\u001b[K\rremote: Counting objects:  28% (20/69)\u001b[K\rremote: Counting objects:  30% (21/69)\u001b[K\rremote: Counting objects:  31% (22/69)\u001b[K\rremote: Counting objects:  33% (23/69)\u001b[K\rremote: Counting objects:  34% (24/69)\u001b[K\rremote: Counting objects:  36% (25/69)\u001b[K\rremote: Counting objects:  37% (26/69)\u001b[K\rremote: Counting objects:  39% (27/69)\u001b[K\rremote: Counting objects:  40% (28/69)\u001b[K\rremote: Counting objects:  42% (29/69)\u001b[K\rremote: Counting objects:  43% (30/69)\u001b[K\rremote: Counting objects:  44% (31/69)\u001b[K\rremote: Counting objects:  46% (32/69)\u001b[K\rremote: Counting objects:  47% (33/69)\u001b[K\rremote: Counting objects:  49% (34/69)\u001b[K\rremote: Counting objects:  50% (35/69)\u001b[K\rremote: Counting objects:  52% (36/69)\u001b[K\rremote: Counting objects:  53% (37/69)\u001b[K\rremote: Counting objects:  55% (38/69)\u001b[K\rremote: Counting objects:  56% (39/69)\u001b[K\rremote: Counting objects:  57% (40/69)\u001b[K\rremote: Counting objects:  59% (41/69)\u001b[K\rremote: Counting objects:  60% (42/69)\u001b[K\rremote: Counting objects:  62% (43/69)\u001b[K\rremote: Counting objects:  63% (44/69)\u001b[K\rremote: Counting objects:  65% (45/69)\u001b[K\rremote: Counting objects:  66% (46/69)\u001b[K\rremote: Counting objects:  68% (47/69)\u001b[K\rremote: Counting objects:  69% (48/69)\u001b[K\rremote: Counting objects:  71% (49/69)\u001b[K\rremote: Counting objects:  72% (50/69)\u001b[K\rremote: Counting objects:  73% (51/69)\u001b[K\rremote: Counting objects:  75% (52/69)\u001b[K\rremote: Counting objects:  76% (53/69)\u001b[K\rremote: Counting objects:  78% (54/69)\u001b[K\rremote: Counting objects:  79% (55/69)\u001b[K\rremote: Counting objects:  81% (56/69)\u001b[K\rremote: Counting objects:  82% (57/69)\u001b[K\rremote: Counting objects:  84% (58/69)\u001b[K\rremote: Counting objects:  85% (59/69)\u001b[K\rremote: Counting objects:  86% (60/69)\u001b[K\rremote: Counting objects:  88% (61/69)\u001b[K\rremote: Counting objects:  89% (62/69)\u001b[K\rremote: Counting objects:  91% (63/69)\u001b[K\rremote: Counting objects:  92% (64/69)\u001b[K\rremote: Counting objects:  94% (65/69)\u001b[K\rremote: Counting objects:  95% (66/69)\u001b[K\rremote: Counting objects:  97% (67/69)\u001b[K\rremote: Counting objects:  98% (68/69)\u001b[K\rremote: Counting objects: 100% (69/69)\u001b[K\rremote: Counting objects: 100% (69/69), done.\u001b[K\n",
            "remote: Compressing objects: 100% (66/66), done.\u001b[K\n",
            "remote: Total 938 (delta 30), reused 18 (delta 2), pack-reused 869\u001b[K\n",
            "Receiving objects: 100% (938/938), 12.32 MiB | 11.44 MiB/s, done.\n",
            "Resolving deltas: 100% (554/554), done.\n"
          ],
          "name": "stdout"
        }
      ]
    },
    {
      "cell_type": "code",
      "metadata": {
        "id": "wIwLm0EPkksr",
        "colab_type": "code",
        "colab": {
          "base_uri": "https://localhost:8080/",
          "height": 1000
        },
        "outputId": "8a09dee9-adc9-445f-ceeb-933a30182d7b"
      },
      "source": [
        "#Install the package requirements first\n",
        "!pip install -r /content/causalml/requirements.txt"
      ],
      "execution_count": 2,
      "outputs": [
        {
          "output_type": "stream",
          "text": [
            "Requirement already satisfied: setuptools>=41.0.0 in /usr/local/lib/python3.6/dist-packages (from -r /content/causalml/requirements.txt (line 1)) (41.4.0)\n",
            "Requirement already satisfied: pip>=10.0 in /usr/local/lib/python3.6/dist-packages (from -r /content/causalml/requirements.txt (line 2)) (19.2.3)\n",
            "Requirement already satisfied: numpy>=0.16.0 in /usr/local/lib/python3.6/dist-packages (from -r /content/causalml/requirements.txt (line 3)) (1.16.5)\n",
            "Collecting scipy<1.3.0 (from -r /content/causalml/requirements.txt (line 4))\n",
            "\u001b[?25l  Downloading https://files.pythonhosted.org/packages/83/69/20c8f3b7efe362093dff891239551ff90d4c463b5f52676e2694fea09442/scipy-1.2.2-cp36-cp36m-manylinux1_x86_64.whl (24.8MB)\n",
            "\u001b[K     |████████████████████████████████| 24.8MB 1.2MB/s \n",
            "\u001b[?25hCollecting matplotlib==2.2.4 (from -r /content/causalml/requirements.txt (line 5))\n",
            "\u001b[?25l  Downloading https://files.pythonhosted.org/packages/48/9b/7ee428ab95b07946d5c20ba01ce27721686e6051b202930d3d810821c166/matplotlib-2.2.4-cp36-cp36m-manylinux1_x86_64.whl (12.8MB)\n",
            "\u001b[K     |████████████████████████████████| 12.8MB 47.7MB/s \n",
            "\u001b[?25hRequirement already satisfied: pandas>=0.24.1 in /usr/local/lib/python3.6/dist-packages (from -r /content/causalml/requirements.txt (line 6)) (0.24.2)\n",
            "Collecting scikit-learn==0.20.3 (from -r /content/causalml/requirements.txt (line 7))\n",
            "\u001b[?25l  Downloading https://files.pythonhosted.org/packages/5e/82/c0de5839d613b82bddd088599ac0bbfbbbcbd8ca470680658352d2c435bd/scikit_learn-0.20.3-cp36-cp36m-manylinux1_x86_64.whl (5.4MB)\n",
            "\u001b[K     |████████████████████████████████| 5.4MB 51.8MB/s \n",
            "\u001b[?25hRequirement already satisfied: statsmodels>=0.9.0 in /usr/local/lib/python3.6/dist-packages (from -r /content/causalml/requirements.txt (line 8)) (0.10.1)\n",
            "Requirement already satisfied: seaborn in /usr/local/lib/python3.6/dist-packages (from -r /content/causalml/requirements.txt (line 9)) (0.9.0)\n",
            "Requirement already satisfied: Cython in /usr/local/lib/python3.6/dist-packages (from -r /content/causalml/requirements.txt (line 10)) (0.29.13)\n",
            "Collecting xgboost==0.82 (from -r /content/causalml/requirements.txt (line 11))\n",
            "\u001b[?25l  Downloading https://files.pythonhosted.org/packages/6a/49/7e10686647f741bd9c8918b0decdb94135b542fe372ca1100739b8529503/xgboost-0.82-py2.py3-none-manylinux1_x86_64.whl (114.0MB)\n",
            "\u001b[K     |████████████████████████████████| 114.0MB 1.2MB/s \n",
            "\u001b[?25hRequirement already satisfied: future in /usr/local/lib/python3.6/dist-packages (from -r /content/causalml/requirements.txt (line 12)) (0.16.0)\n",
            "Requirement already satisfied: pydotplus in /usr/local/lib/python3.6/dist-packages (from -r /content/causalml/requirements.txt (line 13)) (2.0.2)\n",
            "Requirement already satisfied: tqdm in /usr/local/lib/python3.6/dist-packages (from -r /content/causalml/requirements.txt (line 14)) (4.28.1)\n",
            "Collecting eli5 (from -r /content/causalml/requirements.txt (line 15))\n",
            "\u001b[?25l  Downloading https://files.pythonhosted.org/packages/97/2f/c85c7d8f8548e460829971785347e14e45fa5c6617da374711dec8cb38cc/eli5-0.10.1-py2.py3-none-any.whl (105kB)\n",
            "\u001b[K     |████████████████████████████████| 112kB 57.6MB/s \n",
            "\u001b[?25hCollecting shap (from -r /content/causalml/requirements.txt (line 16))\n",
            "\u001b[?25l  Downloading https://files.pythonhosted.org/packages/2b/4b/5944c379c94f8f6335dd36b9316292236e3da0dee8da806f60aecf0d5ce7/shap-0.31.0.tar.gz (257kB)\n",
            "\u001b[K     |████████████████████████████████| 266kB 59.2MB/s \n",
            "\u001b[?25hRequirement already satisfied: dill in /usr/local/lib/python3.6/dist-packages (from -r /content/causalml/requirements.txt (line 17)) (0.3.1.1)\n",
            "Requirement already satisfied: lightgbm in /usr/local/lib/python3.6/dist-packages (from -r /content/causalml/requirements.txt (line 18)) (2.2.3)\n",
            "Requirement already satisfied: python-dateutil>=2.1 in /usr/local/lib/python3.6/dist-packages (from matplotlib==2.2.4->-r /content/causalml/requirements.txt (line 5)) (2.5.3)\n",
            "Requirement already satisfied: six>=1.10 in /usr/local/lib/python3.6/dist-packages (from matplotlib==2.2.4->-r /content/causalml/requirements.txt (line 5)) (1.12.0)\n",
            "Requirement already satisfied: kiwisolver>=1.0.1 in /usr/local/lib/python3.6/dist-packages (from matplotlib==2.2.4->-r /content/causalml/requirements.txt (line 5)) (1.1.0)\n",
            "Requirement already satisfied: pytz in /usr/local/lib/python3.6/dist-packages (from matplotlib==2.2.4->-r /content/causalml/requirements.txt (line 5)) (2018.9)\n",
            "Requirement already satisfied: cycler>=0.10 in /usr/local/lib/python3.6/dist-packages (from matplotlib==2.2.4->-r /content/causalml/requirements.txt (line 5)) (0.10.0)\n",
            "Requirement already satisfied: pyparsing!=2.0.4,!=2.1.2,!=2.1.6,>=2.0.1 in /usr/local/lib/python3.6/dist-packages (from matplotlib==2.2.4->-r /content/causalml/requirements.txt (line 5)) (2.4.2)\n",
            "Requirement already satisfied: patsy>=0.4.0 in /usr/local/lib/python3.6/dist-packages (from statsmodels>=0.9.0->-r /content/causalml/requirements.txt (line 8)) (0.5.1)\n",
            "Requirement already satisfied: tabulate>=0.7.7 in /usr/local/lib/python3.6/dist-packages (from eli5->-r /content/causalml/requirements.txt (line 15)) (0.8.5)\n",
            "Requirement already satisfied: attrs>16.0.0 in /usr/local/lib/python3.6/dist-packages (from eli5->-r /content/causalml/requirements.txt (line 15)) (19.3.0)\n",
            "Requirement already satisfied: graphviz in /usr/local/lib/python3.6/dist-packages (from eli5->-r /content/causalml/requirements.txt (line 15)) (0.10.1)\n",
            "Requirement already satisfied: jinja2 in /usr/local/lib/python3.6/dist-packages (from eli5->-r /content/causalml/requirements.txt (line 15)) (2.10.3)\n",
            "Requirement already satisfied: MarkupSafe>=0.23 in /usr/local/lib/python3.6/dist-packages (from jinja2->eli5->-r /content/causalml/requirements.txt (line 15)) (1.1.1)\n",
            "Building wheels for collected packages: shap\n",
            "  Building wheel for shap (setup.py) ... \u001b[?25l\u001b[?25hdone\n",
            "  Created wheel for shap: filename=shap-0.31.0-cp36-cp36m-linux_x86_64.whl size=375009 sha256=1a92c61b0475b09e18d2fe9a3240254c84371d45bf294aa85895f5a5beaaf02d\n",
            "  Stored in directory: /root/.cache/pip/wheels/7b/2d/46/ff8959add2e4e99a18a6e90b82f47508bf52fdf7e7d806f7df\n",
            "Successfully built shap\n",
            "\u001b[31mERROR: plotnine 0.5.1 has requirement matplotlib>=3.0.0, but you'll have matplotlib 2.2.4 which is incompatible.\u001b[0m\n",
            "\u001b[31mERROR: albumentations 0.1.12 has requirement imgaug<0.2.7,>=0.2.5, but you'll have imgaug 0.2.9 which is incompatible.\u001b[0m\n",
            "Installing collected packages: scipy, matplotlib, scikit-learn, xgboost, eli5, shap\n",
            "  Found existing installation: scipy 1.3.1\n",
            "    Uninstalling scipy-1.3.1:\n",
            "      Successfully uninstalled scipy-1.3.1\n",
            "  Found existing installation: matplotlib 3.0.3\n",
            "    Uninstalling matplotlib-3.0.3:\n",
            "      Successfully uninstalled matplotlib-3.0.3\n",
            "  Found existing installation: scikit-learn 0.21.3\n",
            "    Uninstalling scikit-learn-0.21.3:\n",
            "      Successfully uninstalled scikit-learn-0.21.3\n",
            "  Found existing installation: xgboost 0.90\n",
            "    Uninstalling xgboost-0.90:\n",
            "      Successfully uninstalled xgboost-0.90\n",
            "Successfully installed eli5-0.10.1 matplotlib-2.2.4 scikit-learn-0.20.3 scipy-1.2.2 shap-0.31.0 xgboost-0.82\n"
          ],
          "name": "stdout"
        },
        {
          "output_type": "display_data",
          "data": {
            "application/vnd.colab-display-data+json": {
              "pip_warning": {
                "packages": [
                  "matplotlib",
                  "mpl_toolkits"
                ]
              }
            }
          },
          "metadata": {
            "tags": []
          }
        }
      ]
    },
    {
      "cell_type": "markdown",
      "metadata": {
        "id": "-8W4T9_yKfNO",
        "colab_type": "text"
      },
      "source": [
        "After this step, restart the runtype: __Runtime -> Restart runtime...__\n",
        "\n",
        "<br>\n",
        "\n",
        "Also, install other required packages."
      ]
    },
    {
      "cell_type": "code",
      "metadata": {
        "id": "zizTDHYCroLs",
        "colab_type": "code",
        "colab": {}
      },
      "source": [
        "import pandas as pd\n",
        "import matplotlib.pyplot as plt\n",
        "import seaborn as sns"
      ],
      "execution_count": 0,
      "outputs": []
    },
    {
      "cell_type": "markdown",
      "metadata": {
        "id": "iU7q4qqqmP6T",
        "colab_type": "text"
      },
      "source": [
        "<br>\n",
        "\n",
        "### <font color=Darkred>1. The dataset</font>"
      ]
    },
    {
      "cell_type": "markdown",
      "metadata": {
        "id": "ai2n9t2ftXzn",
        "colab_type": "text"
      },
      "source": [
        "This dataset contains __64,000__ customers who last purchased within twelve months. The customers were involved in an e-mail test.\n",
        "* 1/3 were randomly chosen to receive an e-mail campaign featuring Mens merchandise.\n",
        "* 1/3 were randomly chosen to receive an e-mail campaign featuring Womens merchandise.\n",
        "* 1/3 were randomly chosen to not receive an e-mail campaign.\n",
        "\n",
        "<br>\n",
        "During a period of two weeks following the e-mail campaign, results were tracked. Your job is to tell the world if the Mens or Womens e-mail campaign was successful.\n",
        "\n",
        "Historical customer attributes at your disposal include:\n",
        "* Recency: Months since last purchase.\n",
        "* History_Segment: Categorization of dollars spent in the past year.\n",
        "* History: Actual dollar value spent in the past year.\n",
        "* Mens: 1/0 indicator, 1 = customer purchased Mens merchandise in the past year.\n",
        "* Womens: 1/0 indicator, 1 = customer purchased Womens merchandise in the past year.\n",
        "* Zip_Code: Classifies zip code as Urban, Suburban, or Rural.\n",
        "* Newbie: 1/0 indicator, 1 = New customer in the past twelve months.\n",
        "* Channel: Describes the channels the customer purchased from in the past year.\n",
        "* Segment: describes the e-mail campaign the customer received: Mens E-Mail, Womens E-Mail or No E-Mail.\n",
        "\n",
        "<br>\n",
        "Finally, we have a series of variables describing activity in the two weeks following delivery of the e-mail campaign:\n",
        "\n",
        "* Visit: 1/0 indicator, 1 = Customer visited website in the following two weeks.\n",
        "* Conversion: 1/0 indicator, 1 = Customer purchased merchandise in the following two weeks.\n",
        "* Spend: Actual dollars spent in the following two weeks."
      ]
    },
    {
      "cell_type": "code",
      "metadata": {
        "id": "8ygBJyE3qqbc",
        "colab_type": "code",
        "colab": {
          "resources": {
            "http://localhost:8080/nbextensions/google.colab/files.js": {
              "data": "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",
              "ok": true,
              "headers": [
                [
                  "content-type",
                  "application/javascript"
                ]
              ],
              "status": 200,
              "status_text": ""
            }
          },
          "base_uri": "https://localhost:8080/",
          "height": 91
        },
        "outputId": "86f8f015-4709-45c8-8ab8-cec8b69d6bd2"
      },
      "source": [
        "from google.colab import files\n",
        "\n",
        "uploaded = files.upload()\n",
        "\n",
        "for fn in uploaded.keys():\n",
        "  print('User uploaded file \"{name}\" with length {length} bytes'.format(\n",
        "      name=fn, length=len(uploaded[fn])))"
      ],
      "execution_count": 4,
      "outputs": [
        {
          "output_type": "display_data",
          "data": {
            "text/html": [
              "\n",
              "     <input type=\"file\" id=\"files-d19590af-e326-40e2-92ef-3372e5fd6a10\" name=\"files[]\" multiple disabled />\n",
              "     <output id=\"result-d19590af-e326-40e2-92ef-3372e5fd6a10\">\n",
              "      Upload widget is only available when the cell has been executed in the\n",
              "      current browser session. Please rerun this cell to enable.\n",
              "      </output>\n",
              "      <script src=\"/nbextensions/google.colab/files.js\"></script> "
            ],
            "text/plain": [
              "<IPython.core.display.HTML object>"
            ]
          },
          "metadata": {
            "tags": []
          }
        },
        {
          "output_type": "stream",
          "text": [
            "Saving MIneThatData_raw.csv to MIneThatData_raw.csv\n",
            "User uploaded file \"MIneThatData_raw.csv\" with length 3900976 bytes\n"
          ],
          "name": "stdout"
        }
      ]
    },
    {
      "cell_type": "code",
      "metadata": {
        "id": "vcmVzbclrE92",
        "colab_type": "code",
        "colab": {
          "base_uri": "https://localhost:8080/",
          "height": 425
        },
        "outputId": "af0bfb45-6e5a-4678-9a8c-3f36a14eba48"
      },
      "source": [
        "df=pd.read_csv('MIneThatData_raw.csv', delimiter=',').drop(columns=['history_segment'])\n",
        "print('Number of rows and columns:', df.shape)\n",
        "print('Data types:', df.dtypes)\n",
        "df.head(5)"
      ],
      "execution_count": 5,
      "outputs": [
        {
          "output_type": "stream",
          "text": [
            "Number of rows and columns: (64000, 11)\n",
            "Data types: recency         int64\n",
            "history       float64\n",
            "mens            int64\n",
            "womens          int64\n",
            "zip_code       object\n",
            "newbie          int64\n",
            "channel        object\n",
            "segment        object\n",
            "visit           int64\n",
            "conversion      int64\n",
            "spend         float64\n",
            "dtype: object\n"
          ],
          "name": "stdout"
        },
        {
          "output_type": "execute_result",
          "data": {
            "text/html": [
              "<div>\n",
              "<style scoped>\n",
              "    .dataframe tbody tr th:only-of-type {\n",
              "        vertical-align: middle;\n",
              "    }\n",
              "\n",
              "    .dataframe tbody tr th {\n",
              "        vertical-align: top;\n",
              "    }\n",
              "\n",
              "    .dataframe thead th {\n",
              "        text-align: right;\n",
              "    }\n",
              "</style>\n",
              "<table border=\"1\" class=\"dataframe\">\n",
              "  <thead>\n",
              "    <tr style=\"text-align: right;\">\n",
              "      <th></th>\n",
              "      <th>recency</th>\n",
              "      <th>history</th>\n",
              "      <th>mens</th>\n",
              "      <th>womens</th>\n",
              "      <th>zip_code</th>\n",
              "      <th>newbie</th>\n",
              "      <th>channel</th>\n",
              "      <th>segment</th>\n",
              "      <th>visit</th>\n",
              "      <th>conversion</th>\n",
              "      <th>spend</th>\n",
              "    </tr>\n",
              "  </thead>\n",
              "  <tbody>\n",
              "    <tr>\n",
              "      <th>0</th>\n",
              "      <td>10</td>\n",
              "      <td>142.44</td>\n",
              "      <td>1</td>\n",
              "      <td>0</td>\n",
              "      <td>Surburban</td>\n",
              "      <td>0</td>\n",
              "      <td>Phone</td>\n",
              "      <td>Womens E-Mail</td>\n",
              "      <td>0</td>\n",
              "      <td>0</td>\n",
              "      <td>0.0</td>\n",
              "    </tr>\n",
              "    <tr>\n",
              "      <th>1</th>\n",
              "      <td>6</td>\n",
              "      <td>329.08</td>\n",
              "      <td>1</td>\n",
              "      <td>1</td>\n",
              "      <td>Rural</td>\n",
              "      <td>1</td>\n",
              "      <td>Web</td>\n",
              "      <td>No E-Mail</td>\n",
              "      <td>0</td>\n",
              "      <td>0</td>\n",
              "      <td>0.0</td>\n",
              "    </tr>\n",
              "    <tr>\n",
              "      <th>2</th>\n",
              "      <td>7</td>\n",
              "      <td>180.65</td>\n",
              "      <td>0</td>\n",
              "      <td>1</td>\n",
              "      <td>Surburban</td>\n",
              "      <td>1</td>\n",
              "      <td>Web</td>\n",
              "      <td>Womens E-Mail</td>\n",
              "      <td>0</td>\n",
              "      <td>0</td>\n",
              "      <td>0.0</td>\n",
              "    </tr>\n",
              "    <tr>\n",
              "      <th>3</th>\n",
              "      <td>9</td>\n",
              "      <td>675.83</td>\n",
              "      <td>1</td>\n",
              "      <td>0</td>\n",
              "      <td>Rural</td>\n",
              "      <td>1</td>\n",
              "      <td>Web</td>\n",
              "      <td>Mens E-Mail</td>\n",
              "      <td>0</td>\n",
              "      <td>0</td>\n",
              "      <td>0.0</td>\n",
              "    </tr>\n",
              "    <tr>\n",
              "      <th>4</th>\n",
              "      <td>2</td>\n",
              "      <td>45.34</td>\n",
              "      <td>1</td>\n",
              "      <td>0</td>\n",
              "      <td>Urban</td>\n",
              "      <td>0</td>\n",
              "      <td>Web</td>\n",
              "      <td>Womens E-Mail</td>\n",
              "      <td>0</td>\n",
              "      <td>0</td>\n",
              "      <td>0.0</td>\n",
              "    </tr>\n",
              "  </tbody>\n",
              "</table>\n",
              "</div>"
            ],
            "text/plain": [
              "   recency  history  mens  womens  ...        segment  visit conversion spend\n",
              "0       10   142.44     1       0  ...  Womens E-Mail      0          0   0.0\n",
              "1        6   329.08     1       1  ...      No E-Mail      0          0   0.0\n",
              "2        7   180.65     0       1  ...  Womens E-Mail      0          0   0.0\n",
              "3        9   675.83     1       0  ...    Mens E-Mail      0          0   0.0\n",
              "4        2    45.34     1       0  ...  Womens E-Mail      0          0   0.0\n",
              "\n",
              "[5 rows x 11 columns]"
            ]
          },
          "metadata": {
            "tags": []
          },
          "execution_count": 5
        }
      ]
    },
    {
      "cell_type": "markdown",
      "metadata": {
        "id": "QTgUy2h7j02R",
        "colab_type": "text"
      },
      "source": [
        "<br>\n",
        "\n",
        "### <font color=Darkred>2. Descriptive analysis</font>"
      ]
    },
    {
      "cell_type": "code",
      "metadata": {
        "id": "pvN994qg8fwi",
        "colab_type": "code",
        "colab": {
          "base_uri": "https://localhost:8080/",
          "height": 793
        },
        "outputId": "04e96b88-31cb-4034-a828-4b8195b789a8"
      },
      "source": [
        "# To produce a table with the desc stats of the variables of interest\n",
        "df[['segment','spend','visit','conversion']].groupby('segment').describe().round(2).T"
      ],
      "execution_count": 6,
      "outputs": [
        {
          "output_type": "execute_result",
          "data": {
            "text/html": [
              "<div>\n",
              "<style scoped>\n",
              "    .dataframe tbody tr th:only-of-type {\n",
              "        vertical-align: middle;\n",
              "    }\n",
              "\n",
              "    .dataframe tbody tr th {\n",
              "        vertical-align: top;\n",
              "    }\n",
              "\n",
              "    .dataframe thead th {\n",
              "        text-align: right;\n",
              "    }\n",
              "</style>\n",
              "<table border=\"1\" class=\"dataframe\">\n",
              "  <thead>\n",
              "    <tr style=\"text-align: right;\">\n",
              "      <th></th>\n",
              "      <th>segment</th>\n",
              "      <th>Mens E-Mail</th>\n",
              "      <th>No E-Mail</th>\n",
              "      <th>Womens E-Mail</th>\n",
              "    </tr>\n",
              "  </thead>\n",
              "  <tbody>\n",
              "    <tr>\n",
              "      <th rowspan=\"8\" valign=\"top\">spend</th>\n",
              "      <th>count</th>\n",
              "      <td>21307.00</td>\n",
              "      <td>21306.00</td>\n",
              "      <td>21387.00</td>\n",
              "    </tr>\n",
              "    <tr>\n",
              "      <th>mean</th>\n",
              "      <td>1.42</td>\n",
              "      <td>0.65</td>\n",
              "      <td>1.08</td>\n",
              "    </tr>\n",
              "    <tr>\n",
              "      <th>std</th>\n",
              "      <td>17.75</td>\n",
              "      <td>11.59</td>\n",
              "      <td>15.12</td>\n",
              "    </tr>\n",
              "    <tr>\n",
              "      <th>min</th>\n",
              "      <td>0.00</td>\n",
              "      <td>0.00</td>\n",
              "      <td>0.00</td>\n",
              "    </tr>\n",
              "    <tr>\n",
              "      <th>25%</th>\n",
              "      <td>0.00</td>\n",
              "      <td>0.00</td>\n",
              "      <td>0.00</td>\n",
              "    </tr>\n",
              "    <tr>\n",
              "      <th>50%</th>\n",
              "      <td>0.00</td>\n",
              "      <td>0.00</td>\n",
              "      <td>0.00</td>\n",
              "    </tr>\n",
              "    <tr>\n",
              "      <th>75%</th>\n",
              "      <td>0.00</td>\n",
              "      <td>0.00</td>\n",
              "      <td>0.00</td>\n",
              "    </tr>\n",
              "    <tr>\n",
              "      <th>max</th>\n",
              "      <td>499.00</td>\n",
              "      <td>499.00</td>\n",
              "      <td>499.00</td>\n",
              "    </tr>\n",
              "    <tr>\n",
              "      <th rowspan=\"8\" valign=\"top\">visit</th>\n",
              "      <th>count</th>\n",
              "      <td>21307.00</td>\n",
              "      <td>21306.00</td>\n",
              "      <td>21387.00</td>\n",
              "    </tr>\n",
              "    <tr>\n",
              "      <th>mean</th>\n",
              "      <td>0.18</td>\n",
              "      <td>0.11</td>\n",
              "      <td>0.15</td>\n",
              "    </tr>\n",
              "    <tr>\n",
              "      <th>std</th>\n",
              "      <td>0.39</td>\n",
              "      <td>0.31</td>\n",
              "      <td>0.36</td>\n",
              "    </tr>\n",
              "    <tr>\n",
              "      <th>min</th>\n",
              "      <td>0.00</td>\n",
              "      <td>0.00</td>\n",
              "      <td>0.00</td>\n",
              "    </tr>\n",
              "    <tr>\n",
              "      <th>25%</th>\n",
              "      <td>0.00</td>\n",
              "      <td>0.00</td>\n",
              "      <td>0.00</td>\n",
              "    </tr>\n",
              "    <tr>\n",
              "      <th>50%</th>\n",
              "      <td>0.00</td>\n",
              "      <td>0.00</td>\n",
              "      <td>0.00</td>\n",
              "    </tr>\n",
              "    <tr>\n",
              "      <th>75%</th>\n",
              "      <td>0.00</td>\n",
              "      <td>0.00</td>\n",
              "      <td>0.00</td>\n",
              "    </tr>\n",
              "    <tr>\n",
              "      <th>max</th>\n",
              "      <td>1.00</td>\n",
              "      <td>1.00</td>\n",
              "      <td>1.00</td>\n",
              "    </tr>\n",
              "    <tr>\n",
              "      <th rowspan=\"8\" valign=\"top\">conversion</th>\n",
              "      <th>count</th>\n",
              "      <td>21307.00</td>\n",
              "      <td>21306.00</td>\n",
              "      <td>21387.00</td>\n",
              "    </tr>\n",
              "    <tr>\n",
              "      <th>mean</th>\n",
              "      <td>0.01</td>\n",
              "      <td>0.01</td>\n",
              "      <td>0.01</td>\n",
              "    </tr>\n",
              "    <tr>\n",
              "      <th>std</th>\n",
              "      <td>0.11</td>\n",
              "      <td>0.08</td>\n",
              "      <td>0.09</td>\n",
              "    </tr>\n",
              "    <tr>\n",
              "      <th>min</th>\n",
              "      <td>0.00</td>\n",
              "      <td>0.00</td>\n",
              "      <td>0.00</td>\n",
              "    </tr>\n",
              "    <tr>\n",
              "      <th>25%</th>\n",
              "      <td>0.00</td>\n",
              "      <td>0.00</td>\n",
              "      <td>0.00</td>\n",
              "    </tr>\n",
              "    <tr>\n",
              "      <th>50%</th>\n",
              "      <td>0.00</td>\n",
              "      <td>0.00</td>\n",
              "      <td>0.00</td>\n",
              "    </tr>\n",
              "    <tr>\n",
              "      <th>75%</th>\n",
              "      <td>0.00</td>\n",
              "      <td>0.00</td>\n",
              "      <td>0.00</td>\n",
              "    </tr>\n",
              "    <tr>\n",
              "      <th>max</th>\n",
              "      <td>1.00</td>\n",
              "      <td>1.00</td>\n",
              "      <td>1.00</td>\n",
              "    </tr>\n",
              "  </tbody>\n",
              "</table>\n",
              "</div>"
            ],
            "text/plain": [
              "segment           Mens E-Mail  No E-Mail  Womens E-Mail\n",
              "spend      count     21307.00   21306.00       21387.00\n",
              "           mean          1.42       0.65           1.08\n",
              "           std          17.75      11.59          15.12\n",
              "           min           0.00       0.00           0.00\n",
              "           25%           0.00       0.00           0.00\n",
              "           50%           0.00       0.00           0.00\n",
              "           75%           0.00       0.00           0.00\n",
              "           max         499.00     499.00         499.00\n",
              "visit      count     21307.00   21306.00       21387.00\n",
              "           mean          0.18       0.11           0.15\n",
              "           std           0.39       0.31           0.36\n",
              "           min           0.00       0.00           0.00\n",
              "           25%           0.00       0.00           0.00\n",
              "           50%           0.00       0.00           0.00\n",
              "           75%           0.00       0.00           0.00\n",
              "           max           1.00       1.00           1.00\n",
              "conversion count     21307.00   21306.00       21387.00\n",
              "           mean          0.01       0.01           0.01\n",
              "           std           0.11       0.08           0.09\n",
              "           min           0.00       0.00           0.00\n",
              "           25%           0.00       0.00           0.00\n",
              "           50%           0.00       0.00           0.00\n",
              "           75%           0.00       0.00           0.00\n",
              "           max           1.00       1.00           1.00"
            ]
          },
          "metadata": {
            "tags": []
          },
          "execution_count": 6
        }
      ]
    },
    {
      "cell_type": "code",
      "metadata": {
        "id": "MsjvSv2P6D4_",
        "colab_type": "code",
        "colab": {
          "base_uri": "https://localhost:8080/",
          "height": 581
        },
        "outputId": "98beb4c5-66bb-40e5-d36c-1b3eee7c5dbf"
      },
      "source": [
        "\n",
        "# Initialize the plot\n",
        "plt.figure(figsize=(12,8))\n",
        "\n",
        "# Plots\n",
        "sns.set(style=\"whitegrid\")\n",
        "graph1 = sns.barplot(x=\"newbie\", y=\"spend\", hue=\"segment\", data=df, \n",
        "                     capsize=.02, palette=\"Paired\")\n",
        "\n",
        "# Further customize\n",
        "plt.xlabel('Newbie, Yes = 1, Returning = 0', size = 'x-large')\n",
        "plt.ylim(0, 2 )\n",
        "plt.ylabel('In USD', size = 'x-large') \n",
        "plt.legend(loc= 'upper left');\n",
        "plt.setp(graph1.get_legend().get_texts(), fontsize='16') # for legend text\n",
        "plt.title('Actual dollars spent in the following two weeks', \n",
        "          loc = \"left\", size = 'xx-large', pad = 40)\n",
        "plt.tight_layout();"
      ],
      "execution_count": 7,
      "outputs": [
        {
          "output_type": "display_data",
          "data": {
            "image/png": "[encoded data removed]",
            "text/plain": [
              "<Figure size 864x576 with 1 Axes>"
            ]
          },
          "metadata": {
            "tags": []
          }
        }
      ]
    },
    {
      "cell_type": "markdown",
      "metadata": {
        "id": "zDxORnOQ0iLr",
        "colab_type": "text"
      },
      "source": [
        "We still have to one-hot-encode the categorical variables."
      ]
    },
    {
      "cell_type": "code",
      "metadata": {
        "id": "Mic934zs1Zvg",
        "colab_type": "code",
        "colab": {}
      },
      "source": [
        "# This hot-encodes the categorical variables. \n",
        "# To drop the first label category (\"dummy variable trap\"), use drop_first = True\n",
        "df = pd.get_dummies(df, drop_first=False)\n",
        "df.head(5)"
      ],
      "execution_count": 0,
      "outputs": []
    },
    {
      "cell_type": "markdown",
      "metadata": {
        "id": "sAWBgclPlDBB",
        "colab_type": "text"
      },
      "source": [
        "#### <font color=Darkred>2.1 Summary statistics</font>\n"
      ]
    },
    {
      "cell_type": "code",
      "metadata": {
        "id": "zwS41Hlo2brq",
        "colab_type": "code",
        "colab": {
          "base_uri": "https://localhost:8080/",
          "height": 297
        },
        "outputId": "3a0b7b47-def8-4408-e0ff-fe6ad878988b"
      },
      "source": [
        "df.describe().round(2).T"
      ],
      "execution_count": 8,
      "outputs": [
        {
          "output_type": "execute_result",
          "data": {
            "text/html": [
              "<div>\n",
              "<style scoped>\n",
              "    .dataframe tbody tr th:only-of-type {\n",
              "        vertical-align: middle;\n",
              "    }\n",
              "\n",
              "    .dataframe tbody tr th {\n",
              "        vertical-align: top;\n",
              "    }\n",
              "\n",
              "    .dataframe thead th {\n",
              "        text-align: right;\n",
              "    }\n",
              "</style>\n",
              "<table border=\"1\" class=\"dataframe\">\n",
              "  <thead>\n",
              "    <tr style=\"text-align: right;\">\n",
              "      <th></th>\n",
              "      <th>count</th>\n",
              "      <th>mean</th>\n",
              "      <th>std</th>\n",
              "      <th>min</th>\n",
              "      <th>25%</th>\n",
              "      <th>50%</th>\n",
              "      <th>75%</th>\n",
              "      <th>max</th>\n",
              "    </tr>\n",
              "  </thead>\n",
              "  <tbody>\n",
              "    <tr>\n",
              "      <th>recency</th>\n",
              "      <td>64000.0</td>\n",
              "      <td>5.76</td>\n",
              "      <td>3.51</td>\n",
              "      <td>1.00</td>\n",
              "      <td>2.00</td>\n",
              "      <td>6.00</td>\n",
              "      <td>9.00</td>\n",
              "      <td>12.00</td>\n",
              "    </tr>\n",
              "    <tr>\n",
              "      <th>history</th>\n",
              "      <td>64000.0</td>\n",
              "      <td>242.09</td>\n",
              "      <td>256.16</td>\n",
              "      <td>29.99</td>\n",
              "      <td>64.66</td>\n",
              "      <td>158.11</td>\n",
              "      <td>325.66</td>\n",
              "      <td>3345.93</td>\n",
              "    </tr>\n",
              "    <tr>\n",
              "      <th>mens</th>\n",
              "      <td>64000.0</td>\n",
              "      <td>0.55</td>\n",
              "      <td>0.50</td>\n",
              "      <td>0.00</td>\n",
              "      <td>0.00</td>\n",
              "      <td>1.00</td>\n",
              "      <td>1.00</td>\n",
              "      <td>1.00</td>\n",
              "    </tr>\n",
              "    <tr>\n",
              "      <th>womens</th>\n",
              "      <td>64000.0</td>\n",
              "      <td>0.55</td>\n",
              "      <td>0.50</td>\n",
              "      <td>0.00</td>\n",
              "      <td>0.00</td>\n",
              "      <td>1.00</td>\n",
              "      <td>1.00</td>\n",
              "      <td>1.00</td>\n",
              "    </tr>\n",
              "    <tr>\n",
              "      <th>newbie</th>\n",
              "      <td>64000.0</td>\n",
              "      <td>0.50</td>\n",
              "      <td>0.50</td>\n",
              "      <td>0.00</td>\n",
              "      <td>0.00</td>\n",
              "      <td>1.00</td>\n",
              "      <td>1.00</td>\n",
              "      <td>1.00</td>\n",
              "    </tr>\n",
              "    <tr>\n",
              "      <th>visit</th>\n",
              "      <td>64000.0</td>\n",
              "      <td>0.15</td>\n",
              "      <td>0.35</td>\n",
              "      <td>0.00</td>\n",
              "      <td>0.00</td>\n",
              "      <td>0.00</td>\n",
              "      <td>0.00</td>\n",
              "      <td>1.00</td>\n",
              "    </tr>\n",
              "    <tr>\n",
              "      <th>conversion</th>\n",
              "      <td>64000.0</td>\n",
              "      <td>0.01</td>\n",
              "      <td>0.09</td>\n",
              "      <td>0.00</td>\n",
              "      <td>0.00</td>\n",
              "      <td>0.00</td>\n",
              "      <td>0.00</td>\n",
              "      <td>1.00</td>\n",
              "    </tr>\n",
              "    <tr>\n",
              "      <th>spend</th>\n",
              "      <td>64000.0</td>\n",
              "      <td>1.05</td>\n",
              "      <td>15.04</td>\n",
              "      <td>0.00</td>\n",
              "      <td>0.00</td>\n",
              "      <td>0.00</td>\n",
              "      <td>0.00</td>\n",
              "      <td>499.00</td>\n",
              "    </tr>\n",
              "  </tbody>\n",
              "</table>\n",
              "</div>"
            ],
            "text/plain": [
              "              count    mean     std    min    25%     50%     75%      max\n",
              "recency     64000.0    5.76    3.51   1.00   2.00    6.00    9.00    12.00\n",
              "history     64000.0  242.09  256.16  29.99  64.66  158.11  325.66  3345.93\n",
              "mens        64000.0    0.55    0.50   0.00   0.00    1.00    1.00     1.00\n",
              "womens      64000.0    0.55    0.50   0.00   0.00    1.00    1.00     1.00\n",
              "newbie      64000.0    0.50    0.50   0.00   0.00    1.00    1.00     1.00\n",
              "visit       64000.0    0.15    0.35   0.00   0.00    0.00    0.00     1.00\n",
              "conversion  64000.0    0.01    0.09   0.00   0.00    0.00    0.00     1.00\n",
              "spend       64000.0    1.05   15.04   0.00   0.00    0.00    0.00   499.00"
            ]
          },
          "metadata": {
            "tags": []
          },
          "execution_count": 8
        }
      ]
    },
    {
      "cell_type": "markdown",
      "metadata": {
        "id": "JZoE63REYkBF",
        "colab_type": "text"
      },
      "source": [
        "<br>\n",
        "Let's inspect the distribution of how much these customers spend in the last year (variable = history)."
      ]
    },
    {
      "cell_type": "code",
      "metadata": {
        "id": "7Nf4bk3Z3pXu",
        "colab_type": "code",
        "colab": {
          "base_uri": "https://localhost:8080/",
          "height": 366
        },
        "outputId": "af4ea995-11ed-4373-9d6a-04082c705cad"
      },
      "source": [
        "# Initialize the plot\n",
        "plt.figure(figsize=(35,4))\n",
        "\n",
        "# Create a histogram to observe the distribution of 'history' ($ spent last year)\n",
        "plt.subplot(1,2,1)\n",
        "sns.distplot(df['history'], kde = False, norm_hist = False, \n",
        "             hist_kws=dict(edgecolor=\"k\", linewidth=1))\n",
        "sns.despine(top=True, right=True, left=False, bottom=False)\n",
        "\n",
        "# Further customize\n",
        "plt.title('Purchase history', loc = \"left\", size = 'xx-large', pad = 40)\n",
        "plt.xlabel('$ spent last 12 months', size = 'x-large')\n",
        "plt.xlim(0, 2000)\n",
        "plt.ylabel('Frequency', size = 'x-large');"
      ],
      "execution_count": 9,
      "outputs": [
        {
          "output_type": "display_data",
          "data": {
            "image/png": "[encoded data removed]",
            "text/plain": [
              "<Figure size 2520x288 with 1 Axes>"
            ]
          },
          "metadata": {
            "tags": []
          }
        }
      ]
    },
    {
      "cell_type": "markdown",
      "metadata": {
        "id": "UuvJ2TCAen5M",
        "colab_type": "text"
      },
      "source": [
        "<br>\n",
        "Let's inspect the distribution of recency."
      ]
    },
    {
      "cell_type": "code",
      "metadata": {
        "id": "P9_on9O9es1j",
        "colab_type": "code",
        "colab": {
          "base_uri": "https://localhost:8080/",
          "height": 346
        },
        "outputId": "15efaba0-b29a-48fc-8f05-def6b328fdd4"
      },
      "source": [
        "# Initialize the plot\n",
        "plt.figure(figsize=(20,4))\n",
        "\n",
        "# Create a histogram to observe the distribution of 'recency' (in months)\n",
        "plt.subplot(1,2,1)\n",
        "sns.distplot(df['recency'], kde = False, norm_hist = False, \n",
        "             hist_kws=dict(edgecolor=\"k\", linewidth=1))\n",
        "sns.despine(top=True, right=True, left=False, bottom=False)\n",
        "\n",
        "# Further customize\n",
        "plt.title('Recency', loc = \"left\", size = 'xx-large', pad = 40)\n",
        "plt.xlabel('$ spent last year', size = 'x-large')\n",
        "plt.xlim(1, 12)\n",
        "plt.ylabel('Frequency', size = 'x-large');"
      ],
      "execution_count": 10,
      "outputs": [
        {
          "output_type": "display_data",
          "data": {
            "image/png": "[encoded data removed]",
            "text/plain": [
              "<Figure size 1440x288 with 1 Axes>"
            ]
          },
          "metadata": {
            "tags": []
          }
        }
      ]
    },
    {
      "cell_type": "markdown",
      "metadata": {
        "id": "PfNZZtKa8YMA",
        "colab_type": "text"
      },
      "source": [
        "<br>\n",
        "\n",
        "### <font color=Darkred>3. Causal inference</font>"
      ]
    },
    {
      "cell_type": "code",
      "metadata": {
        "id": "wJEBDwQbk-ra",
        "colab_type": "code",
        "colab": {
          "base_uri": "https://localhost:8080/",
          "height": 717
        },
        "outputId": "fc499b13-37c0-4b7a-b282-d580dc3ec340"
      },
      "source": [
        "# Install Causal ML\n",
        "!pip install causalml"
      ],
      "execution_count": 11,
      "outputs": [
        {
          "output_type": "stream",
          "text": [
            "Collecting causalml\n",
            "\u001b[?25l  Downloading https://files.pythonhosted.org/packages/4e/92/fb9af85303fc6b54bf824c36572c30d9a503e9a70a043d1f135f9c03c1fc/causalml-0.4.0.tar.gz (138kB)\n",
            "\r\u001b[K     |██▍                             | 10kB 21.8MB/s eta 0:00:01\r\u001b[K     |████▊                           | 20kB 6.2MB/s eta 0:00:01\r\u001b[K     |███████                         | 30kB 8.8MB/s eta 0:00:01\r\u001b[K     |█████████▌                      | 40kB 5.9MB/s eta 0:00:01\r\u001b[K     |███████████▉                    | 51kB 7.1MB/s eta 0:00:01\r\u001b[K     |██████████████▏                 | 61kB 8.5MB/s eta 0:00:01\r\u001b[K     |████████████████▋               | 71kB 8.6MB/s eta 0:00:01\r\u001b[K     |███████████████████             | 81kB 7.6MB/s eta 0:00:01\r\u001b[K     |█████████████████████▎          | 92kB 8.4MB/s eta 0:00:01\r\u001b[K     |███████████████████████▋        | 102kB 9.2MB/s eta 0:00:01\r\u001b[K     |██████████████████████████      | 112kB 9.2MB/s eta 0:00:01\r\u001b[K     |████████████████████████████▍   | 122kB 9.2MB/s eta 0:00:01\r\u001b[K     |██████████████████████████████▊ | 133kB 9.2MB/s eta 0:00:01\r\u001b[K     |████████████████████████████████| 143kB 9.2MB/s \n",
            "\u001b[?25hRequirement already satisfied: setuptools>=41.0.0 in /usr/local/lib/python3.6/dist-packages (from causalml) (41.4.0)\n",
            "Requirement already satisfied: pip>=10.0 in /usr/local/lib/python3.6/dist-packages (from causalml) (19.2.3)\n",
            "Requirement already satisfied: numpy>=0.16.0 in /usr/local/lib/python3.6/dist-packages (from causalml) (1.16.5)\n",
            "Requirement already satisfied: scipy<1.3.0 in /usr/local/lib/python3.6/dist-packages (from causalml) (1.2.2)\n",
            "Requirement already satisfied: matplotlib==2.2.4 in /usr/local/lib/python3.6/dist-packages (from causalml) (2.2.4)\n",
            "Requirement already satisfied: pandas>=0.24.1 in /usr/local/lib/python3.6/dist-packages (from causalml) (0.24.2)\n",
            "Requirement already satisfied: scikit-learn==0.20.3 in /usr/local/lib/python3.6/dist-packages (from causalml) (0.20.3)\n",
            "Requirement already satisfied: statsmodels>=0.9.0 in /usr/local/lib/python3.6/dist-packages (from causalml) (0.10.1)\n",
            "Requirement already satisfied: seaborn in /usr/local/lib/python3.6/dist-packages (from causalml) (0.9.0)\n",
            "Requirement already satisfied: Cython in /usr/local/lib/python3.6/dist-packages (from causalml) (0.29.13)\n",
            "Requirement already satisfied: xgboost==0.82 in /usr/local/lib/python3.6/dist-packages (from causalml) (0.82)\n",
            "Requirement already satisfied: future in /usr/local/lib/python3.6/dist-packages (from causalml) (0.16.0)\n",
            "Requirement already satisfied: pydotplus in /usr/local/lib/python3.6/dist-packages (from causalml) (2.0.2)\n",
            "Requirement already satisfied: tqdm in /usr/local/lib/python3.6/dist-packages (from causalml) (4.28.1)\n",
            "Requirement already satisfied: eli5 in /usr/local/lib/python3.6/dist-packages (from causalml) (0.10.1)\n",
            "Requirement already satisfied: shap in /usr/local/lib/python3.6/dist-packages (from causalml) (0.31.0)\n",
            "Requirement already satisfied: dill in /usr/local/lib/python3.6/dist-packages (from causalml) (0.3.1.1)\n",
            "Requirement already satisfied: lightgbm in /usr/local/lib/python3.6/dist-packages (from causalml) (2.2.3)\n",
            "Requirement already satisfied: python-dateutil>=2.1 in /usr/local/lib/python3.6/dist-packages (from matplotlib==2.2.4->causalml) (2.5.3)\n",
            "Requirement already satisfied: pytz in /usr/local/lib/python3.6/dist-packages (from matplotlib==2.2.4->causalml) (2018.9)\n",
            "Requirement already satisfied: six>=1.10 in /usr/local/lib/python3.6/dist-packages (from matplotlib==2.2.4->causalml) (1.12.0)\n",
            "Requirement already satisfied: kiwisolver>=1.0.1 in /usr/local/lib/python3.6/dist-packages (from matplotlib==2.2.4->causalml) (1.1.0)\n",
            "Requirement already satisfied: pyparsing!=2.0.4,!=2.1.2,!=2.1.6,>=2.0.1 in /usr/local/lib/python3.6/dist-packages (from matplotlib==2.2.4->causalml) (2.4.2)\n",
            "Requirement already satisfied: cycler>=0.10 in /usr/local/lib/python3.6/dist-packages (from matplotlib==2.2.4->causalml) (0.10.0)\n",
            "Requirement already satisfied: patsy>=0.4.0 in /usr/local/lib/python3.6/dist-packages (from statsmodels>=0.9.0->causalml) (0.5.1)\n",
            "Requirement already satisfied: attrs>16.0.0 in /usr/local/lib/python3.6/dist-packages (from eli5->causalml) (19.3.0)\n",
            "Requirement already satisfied: jinja2 in /usr/local/lib/python3.6/dist-packages (from eli5->causalml) (2.10.3)\n",
            "Requirement already satisfied: tabulate>=0.7.7 in /usr/local/lib/python3.6/dist-packages (from eli5->causalml) (0.8.5)\n",
            "Requirement already satisfied: graphviz in /usr/local/lib/python3.6/dist-packages (from eli5->causalml) (0.10.1)\n",
            "Requirement already satisfied: MarkupSafe>=0.23 in /usr/local/lib/python3.6/dist-packages (from jinja2->eli5->causalml) (1.1.1)\n",
            "Building wheels for collected packages: causalml\n",
            "  Building wheel for causalml (setup.py) ... \u001b[?25l\u001b[?25hdone\n",
            "  Created wheel for causalml: filename=causalml-0.4.0-cp36-cp36m-linux_x86_64.whl size=227102 sha256=f8fd772b1840bfaed62693fd3ddd434268ddda4cbb2e742fca961ec3cb847a47\n",
            "  Stored in directory: /root/.cache/pip/wheels/1d/05/e6/783812f61df1a80fbc70eb619d5b859b795e053ee7d9e02901\n",
            "Successfully built causalml\n",
            "Installing collected packages: causalml\n",
            "Successfully installed causalml-0.4.0\n"
          ],
          "name": "stdout"
        }
      ]
    },
    {
      "cell_type": "code",
      "metadata": {
        "id": "6645EH5A1G8y",
        "colab_type": "code",
        "colab": {
          "base_uri": "https://localhost:8080/",
          "height": 51
        },
        "outputId": "24437d8e-d57a-417f-c7e9-39c303c29da3"
      },
      "source": [
        "# Install/import other required packages\n",
        "from sklearn.linear_model import LinearRegression\n",
        "from sklearn.model_selection import train_test_split\n",
        "import statsmodels.api as sm\n",
        "from xgboost import XGBRegressor\n",
        "import warnings\n",
        "\n",
        "from causalml.inference.meta import LRSRegressor\n",
        "from causalml.inference.meta import XGBTRegressor, MLPTRegressor\n",
        "from causalml.inference.meta import BaseXRegressor, BaseRRegressor, BaseSRegressor, BaseTRegressor\n",
        "from causalml.match import NearestNeighborMatch, MatchOptimizer, create_table_one\n",
        "from causalml.propensity import ElasticNetPropensityModel\n",
        "from causalml.metrics import *\n",
        "\n",
        "import causalml\n",
        "print(causalml.__version__)\n",
        "\n",
        "warnings.filterwarnings('ignore')\n",
        "plt.style.use('fivethirtyeight')\n",
        "\n",
        "%matplotlib inline"
      ],
      "execution_count": 12,
      "outputs": [
        {
          "output_type": "stream",
          "text": [
            "Using TensorFlow backend.\n"
          ],
          "name": "stderr"
        },
        {
          "output_type": "stream",
          "text": [
            "0.4.0\n"
          ],
          "name": "stdout"
        }
      ]
    },
    {
      "cell_type": "markdown",
      "metadata": {
        "id": "7HThcVaZCJ9G",
        "colab_type": "text"
      },
      "source": [
        "<br>\n",
        "\n",
        "Uber’s [CausalML](https://causalml.readthedocs.io/en/latest/about.html) is a Python-based library for __causal inference__. \n",
        "\n",
        "It provides a standard interface that allows user to estimate the __Conditional Average Treatment Effect (CATE)__ from experimental or observational data.\n",
        "\n",
        "<br>\n",
        "\n",
        "Typical use cases include:\n",
        "\n",
        "* __Campaign Targeting Optimization:__ An important lever to increase ROI in an advertising campaign is to target the ad to the set of customers who will have a favorable response in a given KPI such as engagement or sales. CATE identifies these customers by estimating the effect of the KPI from ad exposure at the individual level from A/B experiment or historical observational data.\n",
        "* __Personalized Engagement:__ Company has multiple options to interact with its customers such as different product choices in up-sell or mess aging channels for communications. One can use CATE to estimate the heterogeneous treatment effect for each customer and treatment option combination for an optimal personalized recommendation system.\n"
      ]
    },
    {
      "cell_type": "markdown",
      "metadata": {
        "id": "gjbV54mdoFyw",
        "colab_type": "text"
      },
      "source": [
        "We first estimate the Average Treatment Effect (ATE) with S, T, X, and R Learners. A meta-algorithm (or meta-learner) is a framework to estimate the Conditional Average Treatment Effect (CATE) using any machine learning estimators (called base learners).\n",
        "\n",
        "<br>\n",
        "\n",
        "For this, we need to define the outcome of interest (spend) as __y__, the treatment (Men's or Women's email) as __treatment__, and the set of covariates __X__.\n",
        "\n",
        "Let's start by estimating the effect of the __Women's email campaign__."
      ]
    },
    {
      "cell_type": "code",
      "metadata": {
        "id": "Xlse6Xy8puXj",
        "colab_type": "code",
        "colab": {}
      },
      "source": [
        "# Create dataframe containing cases the observations in the control group (no email) and women's email.\n",
        "women_df = df.loc[df['segment_Mens E-Mail'] != 1] # != is not equal\n",
        "women_df.shape\n",
        "\n",
        "# All the observations containing cases in which a Men's email was sent are dropped."
      ],
      "execution_count": 0,
      "outputs": []
    },
    {
      "cell_type": "code",
      "metadata": {
        "id": "Z9jwpafDDyvA",
        "colab_type": "code",
        "colab": {}
      },
      "source": [
        "# Visualize the average difference between the two groups in the outcomes.\n",
        "women_df[['segment_Womens E-Mail','spend','visit','conversion']].groupby('segment_Womens E-Mail').describe().round(2).T"
      ],
      "execution_count": 0,
      "outputs": []
    },
    {
      "cell_type": "code",
      "metadata": {
        "id": "p9Vk6iyWpwRe",
        "colab_type": "code",
        "colab": {}
      },
      "source": [
        "# Declare the treatement indicator variable\n",
        "womens_email = women_df.loc[:, \"segment_Womens E-Mail\"].to_numpy()\n",
        "womens_email.shape"
      ],
      "execution_count": 0,
      "outputs": []
    },
    {
      "cell_type": "code",
      "metadata": {
        "id": "P6J8STWEyF1B",
        "colab_type": "code",
        "colab": {}
      },
      "source": [
        "# Declare the set of covariates\n",
        "X = women_df.loc[:, [\"recency\",\"history\",\"mens\",\"womens\",\"newbie\",\n",
        "                     \"zip_code_Rural\",\"zip_code_Surburban\", \n",
        "                     \"channel_Phone\",\"channel_Web\"]].to_numpy()\n",
        "X.shape"
      ],
      "execution_count": 0,
      "outputs": []
    },
    {
      "cell_type": "code",
      "metadata": {
        "id": "OqZ6j4yZztil",
        "colab_type": "code",
        "colab": {}
      },
      "source": [
        "# The outcome of interest will be called - women_spend -\n",
        "womens_spend = women_df.loc[:,\"spend\"].to_numpy()\n",
        "womens_spend.shape\n"
      ],
      "execution_count": 0,
      "outputs": []
    },
    {
      "cell_type": "markdown",
      "metadata": {
        "id": "ikb4UjY63Pp0",
        "colab_type": "text"
      },
      "source": [
        "<br>\n",
        "\n",
        "#### <font color=Darkred>3.1 Estimation of the ATE using Meta_Learners (*S, T, X, R*)\n",
        "</font>"
      ]
    },
    {
      "cell_type": "code",
      "metadata": {
        "id": "svenPTcuysXJ",
        "colab_type": "code",
        "colab": {}
      },
      "source": [
        "# S-learner\n",
        "lr = LRSRegressor()\n",
        "te, lb, ub = lr.estimate_ate(X, womens_email, womens_spend)\n",
        "print('Average Treatment Effect (Linear Regression): {:.2f} ({:.2f}, {:.2f})'.format(te[0], lb[0], ub[0]))"
      ],
      "execution_count": 0,
      "outputs": []
    },
    {
      "cell_type": "code",
      "metadata": {
        "id": "ij1WQK1s-zeX",
        "colab_type": "code",
        "colab": {}
      },
      "source": [
        "# T-learner\n",
        "xg = XGBTRegressor(random_state=42)\n",
        "te, lb, ub = xg.estimate_ate(X, womens_email, womens_spend)\n",
        "print('Average Treatment Effect (XGBoost): {:.2f} ({:.2f}, {:.2f})'.format(te[0], lb[0], ub[0]))"
      ],
      "execution_count": 0,
      "outputs": []
    },
    {
      "cell_type": "code",
      "metadata": {
        "id": "0emG4T0n_QUl",
        "colab_type": "code",
        "colab": {}
      },
      "source": [
        "# The X-learner and R-learner require a propensity score\n",
        "from causalml.propensity import ElasticNetPropensityModel\n",
        "pm = ElasticNetPropensityModel(n_fold=5, random_state=42)\n",
        "ps = pm.fit_predict(X, womens_email)"
      ],
      "execution_count": 0,
      "outputs": []
    },
    {
      "cell_type": "code",
      "metadata": {
        "id": "D063xzNRJn0Z",
        "colab_type": "code",
        "colab": {}
      },
      "source": [
        "# X-learner\n",
        "xl = BaseXRegressor(learner=XGBRegressor(random_state=42))\n",
        "te, lb, ub = xl.estimate_ate(X, ps, womens_email, womens_spend)\n",
        "print('Average Treatment Effect (BaseXRegressor using XGBoost): {:.2f} ({:.2f}, {:.2f})'.format(te[0], lb[0], ub[0]))"
      ],
      "execution_count": 0,
      "outputs": []
    },
    {
      "cell_type": "code",
      "metadata": {
        "id": "tdb2q6bdJ-SG",
        "colab_type": "code",
        "colab": {}
      },
      "source": [
        "# R-learner\n",
        "rl = BaseRRegressor(learner=XGBRegressor(random_state=42))\n",
        "te, lb, ub =  rl.estimate_ate(X, ps, womens_email, womens_spend)\n",
        "print('Average Treatment Effect (BaseRRegressor using XGBoost): {:.2f} ({:.2f}, {:.2f})'.format(te[0], lb[0], ub[0]))"
      ],
      "execution_count": 0,
      "outputs": []
    },
    {
      "cell_type": "markdown",
      "metadata": {
        "id": "i2MJO6AZSCaT",
        "colab_type": "text"
      },
      "source": [
        "<br>\n",
        "\n",
        "#### <font color=Darkred>3.2 Calculate conditional ATE using Meta_Learners (*S, T, X, R*)\n",
        "</font>"
      ]
    },
    {
      "cell_type": "code",
      "metadata": {
        "id": "DwEfrBlSSNqI",
        "colab_type": "code",
        "colab": {}
      },
      "source": [
        "# S Learner\n",
        "learner_s = LRSRegressor()\n",
        "cate_s = learner_s.fit_predict(X, womens_email, womens_spend)\n",
        "\n",
        "# T Learner\n",
        "learner_t = BaseTRegressor(learner=XGBRegressor())\n",
        "cate_t = learner_t.fit_predict(X, womens_email, womens_spend)\n",
        "\n",
        "# X Learner\n",
        "learner_x = BaseXRegressor(learner=XGBRegressor())\n",
        "cate_x = learner_x.fit_predict(X, ps, womens_email, womens_spend)\n",
        "\n",
        "# R Learner\n",
        "learner_r = BaseRRegressor(learner=XGBRegressor())\n",
        "cate_r = learner_r.fit_predict(X, ps, womens_email, womens_spend)"
      ],
      "execution_count": 0,
      "outputs": []
    },
    {
      "cell_type": "markdown",
      "metadata": {
        "id": "go-hkVBIVSR-",
        "colab_type": "text"
      },
      "source": [
        "<br>\n",
        "Let's plot the predicted CATE."
      ]
    },
    {
      "cell_type": "code",
      "metadata": {
        "id": "SYU9FLzdSoFv",
        "colab_type": "code",
        "colab": {}
      },
      "source": [
        "# Initialize plot\n",
        "alpha=0.2\n",
        "bins=5000\n",
        "plt.figure(figsize=(12,8))\n",
        "\n",
        "# Plot the histograms of the predictions by Learner\n",
        "plt.hist(cate_t, alpha=alpha, bins=bins, label='T Learner')\n",
        "plt.hist(cate_x, alpha=alpha, bins=bins, label='X Learner')\n",
        "plt.hist(cate_r, alpha=alpha, bins=bins, label='R Learner')\n",
        "plt.vlines(cate_s[0], 0, plt.axes().get_ylim()[1], label='S Learner',\n",
        "           linestyles='dotted', colors='green', linewidth=2)\n",
        "\n",
        "# Further customize\n",
        "plt.title('Distribution of CATE Predictions by Meta Learner')\n",
        "plt.xlabel('Individual Treatment Effect (ITE/CATE)')\n",
        "plt.xlim(-3, 3)\n",
        "plt.ylabel('# of Samples')\n",
        "_=plt.legend()"
      ],
      "execution_count": 0,
      "outputs": []
    },
    {
      "cell_type": "markdown",
      "metadata": {
        "id": "rDJseEBuTqul",
        "colab_type": "text"
      },
      "source": [
        "<br>\n",
        "\n",
        "### <font color=Darkred>4. Discussion of the results</font>"
      ]
    },
    {
      "cell_type": "markdown",
      "metadata": {
        "id": "RiRjOZoTUeJv",
        "colab_type": "text"
      },
      "source": [
        "The winning solution for the challenge was submitted by Nicolas Radcliffe of [Stochastic Solutions](http://stochasticsolutions.com/).\n",
        "\n",
        "His paper is titled, \"[Hillstrom’s MineThatData Email Analytics Challenge: An Approach Using Uplift Modelling](http://minethatdata.com/Stochastic_Solutions_E-Mail_Challenge_2008.04.30.pdf)\".\n",
        "\n",
        "Among their main results about the women's email campaign:\n",
        "\n",
        "* The campaign had a positive impact overall;\n",
        "\n",
        "* There are some segments for which the Women’s mailing, in particular, appeared to reduce rather than increase spending; \n",
        "\n",
        "* An extremely small number of people were responsible for over half of the incremental spend."
      ]
    }
  ]
}